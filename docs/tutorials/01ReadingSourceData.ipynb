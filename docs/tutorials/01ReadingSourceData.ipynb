{
 "cells": [
  {
   "cell_type": "markdown",
   "id": "dfd0ca81-c3d1-4038-89cb-9c3c81a97caf",
   "metadata": {},
   "source": [
    "# Reading Source Data\n",
    "\n",
    "Source data (Hebrew or Greek) is tokenized and formatted as TSV, with additional columns with other attributes. \n",
    "\n",
    "See [the index](00Index.ipynb) for the requirements to run this notebook.\n",
    "\n",
    "## Contents\n",
    "\n",
    "* [Source Token Attributes](#Source-Token-Attributes)\n",
    "* [Corpus Properties](#Corpus-Properties)"
   ]
  },
  {
   "cell_type": "markdown",
   "id": "f314eaab-d2ff-4cee-bffa-c8eb7be9b46e",
   "metadata": {},
   "source": [
    "## Source Token Attributes\n",
    "\n",
    "Here's sample data for the first five words from Mark 1:1:\n",
    "\n",
    "| id | altId | text | strongs | gloss | gloss2 | lemma | pos | morph |\n",
    "| -- | ----- | ---- | ------- | ----- | ------ | ----- | --- | ----- |\n",
    "| n41001001001 | Ἀρχὴ-1 | Ἀρχὴ | G0746 | [The] beginning | beginning | ἀρχή | noun | N-NSF |\n",
    "| n41001001002 | τοῦ-1 | τοῦ | G3588 | of the | the | ὁ | det | T-GSN |\n",
    "| n41001001003 | εὐαγγελίου-1 | εὐαγγελίου | G2098 | gospel | gospel | εὐαγγέλιον | noun | N-GSN |\n",
    "| n41001001004 | Ἰησοῦ-1 | Ἰησοῦ | G2424 | of Jesus | Jesus | Ἰησοῦς | noun | N-GSM |\n",
    "| n41001001005 | χριστοῦ-1 | χριστοῦ | G5547 | Christ | Christ | Χριστός | noun | N-GSM |\n",
    "\n",
    "Selected attribute documentation:\n",
    "* The `id` attribute uniquely identifies this token in the corpus. \n",
    "    * The \"n\" prefix identifies it as a New Testament token, for consistency with Macula.\n",
    "    * The format is BBCCCVVVWWW, representing book, chapter, verse, and word. For Hebrew corpora, there is an additional word part identifier (so BBCCCVVVWWWP). The `biblelib` library has utilities for working with this format (`biblelib.word.bcvwpid`). \n",
    "* The `text` attribute represents the surface text. Note that source corpora do not include punctuation in the surface text. \n",
    "* The `gloss` attribute provides English glosses for the text, typically with some contextual information. \n",
    "* The `lemma` attribute represents the dictionary form of the word. This can be joined to lexicon data, depending on the lexicon format. \n",
    "* The `pos` attribute represents part of speech. \n",
    "* The `morph` attribute represents morphological information.\n",
    "\n",
    "More details on the values for these attributes can be found in the Source Corpora Documentation under `explanation`. \n"
   ]
  },
  {
   "cell_type": "code",
   "execution_count": null,
   "id": "a8856f25-54f0-49f2-b052-9dec026cad68",
   "metadata": {
    "tags": []
   },
   "outputs": [],
   "source": [
    "# setup\n",
    "from bible_alignments import SOURCES\n",
    "from bible_alignments.burrito import SourceReader\n",
    "\n",
    "# read the SBLGNT data\n",
    "sblgnt = SourceReader(SOURCES / \"SBLGNT.tsv\")\n",
    "# sblgnt is a dictionary mapping token identifiers to Source instances\n",
    "sblgnt[\"n41001001004\"]"
   ]
  },
  {
   "cell_type": "code",
   "execution_count": null,
   "id": "67b46685-0b7a-4014-9c4e-540ef052ae59",
   "metadata": {
    "tags": []
   },
   "outputs": [],
   "source": [
    "mrk1_1_5 = sblgnt[\"n41001001004\"]\n",
    "print(\"Basic attributes for Mark 1:1.5:\")\n",
    "print(f\"identifier:\\t{mrk1_1_5.id}\")\n",
    "# book/chapter/verse portion of identifier\n",
    "print(f\"bcv:\\t\\t{mrk1_1_5.bcv}\")\n",
    "print(f\"text:\\t\\t{mrk1_1_5.text}\")\n",
    "# tuple of id and text\n",
    "print(f\"idtext:\\t\\t{mrk1_1_5.idtext}\")\n",
    "print(f\"gloss:\\t\\t{mrk1_1_5.gloss}\")\n",
    "print(f\"lemma:\\t\\t{mrk1_1_5.lemma}\")\n",
    "print(f\"pos:\\t\\t{mrk1_1_5.pos}\")\n",
    "print(f\"morph:\\t\\t{mrk1_1_5.morph}\")\n",
    "print()\n",
    "print(\"Properties and methods:\")\n",
    "print(f\"is_content():\\t{mrk1_1_5.is_content()}\")\n",
    "print(f\"is_noun():\\t{mrk1_1_5.is_noun()}\")\n",
    "print(f\"_is_pos('verb'): {mrk1_1_5._is_pos('verb')}\")\n",
    "print(f\"_is_pos('noun'): {mrk1_1_5._is_pos('noun')}\")\n",
    "print(f\"_display:\\t{mrk1_1_5._display}\")\n",
    "print(f\"asdict():\\t{mrk1_1_5.asdict()}\")"
   ]
  },
  {
   "cell_type": "markdown",
   "id": "17d848f1-54a1-456f-9d1c-bd40bbc8396e",
   "metadata": {},
   "source": [
    "## Corpus Properties\n",
    "\n",
    "You can aggregate the values of different attributes for tokens in the corpus with the `vocabulary()` method of the `SourceReader` class. "
   ]
  },
  {
   "cell_type": "code",
   "execution_count": null,
   "id": "028b099a-3540-446b-a371-c9a261ba7fdf",
   "metadata": {
    "tags": []
   },
   "outputs": [],
   "source": [
    "# the total number of tokens\n",
    "len(sblgnt)"
   ]
  },
  {
   "cell_type": "code",
   "execution_count": null,
   "id": "1773c4a3-b53f-4541-a60c-928b9c78646f",
   "metadata": {
    "tags": []
   },
   "outputs": [],
   "source": [
    "# the size of the token vocabulary\n",
    "len(sblgnt.vocabulary())"
   ]
  },
  {
   "cell_type": "code",
   "execution_count": null,
   "id": "b89b6b77-4809-4aed-a0ae-58fae50e08f4",
   "metadata": {
    "tags": []
   },
   "outputs": [],
   "source": [
    "# the size of the lemma vocabulary\n",
    "lemmavocab = sblgnt.vocabulary(tokenattr=\"lemma\")\n",
    "print(f\"Number of lemmas: {len(lemmavocab)}\")\n",
    "# the first 10, as examples. Note that the lemmas are case-sensitive and accented. \n",
    "lemmavocab[:10]"
   ]
  },
  {
   "cell_type": "code",
   "execution_count": null,
   "id": "1f9fc984-dee1-4710-9ede-259ae2694a56",
   "metadata": {
    "tags": []
   },
   "outputs": [],
   "source": [
    "# the values for part of speech: not so many, so we can just list them. \n",
    "sblgnt.vocabulary(tokenattr=\"pos\")"
   ]
  },
  {
   "cell_type": "code",
   "execution_count": null,
   "id": "71ce91ec-c90c-4d5a-8026-03b27cc34e62",
   "metadata": {},
   "outputs": [],
   "source": []
  }
 ],
 "metadata": {
  "kernelspec": {
   "display_name": "Python 3 (ipykernel)",
   "language": "python",
   "name": "python3"
  },
  "language_info": {
   "codemirror_mode": {
    "name": "ipython",
    "version": 3
   },
   "file_extension": ".py",
   "mimetype": "text/x-python",
   "name": "python",
   "nbconvert_exporter": "python",
   "pygments_lexer": "ipython3",
   "version": "3.10.13"
  }
 },
 "nbformat": 4,
 "nbformat_minor": 5
}
