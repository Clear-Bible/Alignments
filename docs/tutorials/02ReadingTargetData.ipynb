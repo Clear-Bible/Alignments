{
 "cells": [
  {
   "cell_type": "markdown",
   "id": "dfd0ca81-c3d1-4038-89cb-9c3c81a97caf",
   "metadata": {},
   "source": [
    "# Reading Target Data\n",
    "\n",
    "The target translation is tokenized and formatted as TSV, with additional columns with other attributes. \n",
    "\n",
    "See [the index](00Index.ipynb) for the requirements to run this notebook.\n",
    "\n",
    "## Contents\n",
    "\n",
    "* [Target Token Attributes](#Target-Token-Attributes)\n",
    "* [Corpus Properties](#Corpus-Properties)"
   ]
  },
  {
   "cell_type": "markdown",
   "id": "f314eaab-d2ff-4cee-bffa-c8eb7be9b46e",
   "metadata": {},
   "source": [
    "## Target Token Attributes\n",
    "\n",
    "Here's sample data for Mark 1:1 in the Berean Standard Bible:\n",
    "\n",
    "| id | source_verse | text | skip_space_after | exclude | id_range_end | source_verse_range_end |\n",
    "| -- | ------------ | ---- | ---------------- | ------- | ------------ | ---------------------- |\n",
    "| 41001001001 | 41001001 | This |  |  |  |  |\n",
    "| 41001001002 | 41001001 | is |  |  |  |  |\n",
    "| 41001001003 | 41001001 | the |  |  |  |  |\n",
    "| 41001001004 | 41001001 | beginning |  |  |  |  |\n",
    "| 41001001005 | 41001001 | of |  |  |  |  |\n",
    "| 41001001006 | 41001001 | the |  |  |  |  |\n",
    "| 41001001007 | 41001001 | gospel |  |  |  |  |\n",
    "| 41001001008 | 41001001 | of |  |  |  |  |\n",
    "| 41001001009 | 41001001 | Jesus |  |  |  |  |\n",
    "| 41001001010 | 41001001 | Christ | y |  |  |  |\n",
    "| 41001001011 | 41001001 | , |  | y |  |  |\n",
    "| 41001001012 | 41001001 | the |  |  |  |  |\n",
    "| 41001001013 | 41001001 | Son |  |  |  |  |\n",
    "| 41001001014 | 41001001 | of |  |  |  |  |\n",
    "| 41001001015 | 41001001 | God | y |  |  |  |\n",
    "| 41001001016 | 41001001 | . |  | y |  |\n",
    "\n",
    "Selected attribute documentation:\n",
    "* The `id` attribute uniquely identifies this token in the corpus. The `biblelib` library has utilities for working with this format (`biblelib.word.bcvwpid`). \n",
    "* The `source_verse` attribute indicates the matching book, chapter, and verse in the source text. While this represents the same value the majority of the time, there are many cases where versification differs between target and source, and even cases where some words are moved across verse boundaries. \n",
    "* The `text` attribute represents the surface text. Punctuation is also included, and is normally separated as its own token. \n",
    "* The `skip_space_after` attribute allows reconstructing a readable text from the sequence of tokens. The default value is false (left unmarked), and assumes space-delimited tokens. A `y` value indicates that a space should not be added after this token (for example, before most punctuation tokens in English). \n",
    "* The `exclude` attribute indicates tokens that should not be aligned (for example, punctuation). \n",
    "\n",
    "More details on the values for these attributes can be found in the Target Corpora Documentation under `explanation`. \n"
   ]
  },
  {
   "cell_type": "code",
   "execution_count": 1,
   "id": "a8856f25-54f0-49f2-b052-9dec026cad68",
   "metadata": {
    "tags": []
   },
   "outputs": [
    {
     "data": {
      "text/plain": [
       "<Target: 41001001010>"
      ]
     },
     "execution_count": 1,
     "metadata": {},
     "output_type": "execute_result"
    }
   ],
   "source": [
    "# setup\n",
    "from bible_alignments.burrito import DATAPATH, TargetReader\n",
    "\n",
    "# read the BSB data for the New Testament\n",
    "ntbsb = TargetReader(DATAPATH / \"eng/targets/BSB/nt_BSB.tsv\")\n",
    "# ntbsb is a dictionary mapping token identifiers to Target instances\n",
    "ntbsb[\"41001001010\"]"
   ]
  },
  {
   "cell_type": "code",
   "execution_count": 2,
   "id": "67b46685-0b7a-4014-9c4e-540ef052ae59",
   "metadata": {
    "tags": []
   },
   "outputs": [
    {
     "name": "stdout",
     "output_type": "stream",
     "text": [
      "Basic attributes for Mark 1:1.10 (BSB):\n",
      "identifier:\t41001001010\n",
      "bcv:\t\t41001001\n",
      "text:\t\tChrist\n",
      "idtext:\t\t('41001001010', 'Christ')\n",
      "source_verse:\t41001001\n",
      "skip_space_after: True\n",
      "exclude:\tFalse\n",
      "\n",
      "Properties and methods:\n",
      "same_source_verse: True\n",
      "_display:\t41001001010: Christ\t\t ('', False, False)\n",
      "asdict():\t{'id': '41001001010', 'text': 'Christ', 'source_verse': '41001001', 'skip_space_after': 'y', 'exclude': ''}\n"
     ]
    }
   ],
   "source": [
    "mrk1_1_10 = ntbsb[\"41001001010\"]\n",
    "print(\"Basic attributes for Mark 1:1.10 (BSB):\")\n",
    "print(f\"identifier:\\t{mrk1_1_10.id}\")\n",
    "# book/chapter/verse portion of identifier\n",
    "print(f\"bcv:\\t\\t{mrk1_1_10.bcv}\")\n",
    "print(f\"text:\\t\\t{mrk1_1_10.text}\")\n",
    "# tuple of id and text\n",
    "print(f\"idtext:\\t\\t{mrk1_1_10.idtext}\")\n",
    "print(f\"source_verse:\\t{mrk1_1_10.source_verse}\")\n",
    "print(f\"skip_space_after: {mrk1_1_10.skip_space_after}\")\n",
    "print(f\"exclude:\\t{mrk1_1_10.exclude}\")\n",
    "print()\n",
    "print(\"Properties and methods:\")\n",
    "print(f\"same_source_verse: {mrk1_1_10.same_source_verse}\")\n",
    "print(f\"_display:\\t{mrk1_1_10._display}\")\n",
    "print(f\"asdict():\\t{mrk1_1_10.asdict()}\")\n"
   ]
  },
  {
   "cell_type": "markdown",
   "id": "17d848f1-54a1-456f-9d1c-bd40bbc8396e",
   "metadata": {},
   "source": [
    "## Corpus Properties\n",
    "\n",
    "You can collect the tokens matching a given term, either preserving or ignoring case, with the `term_tokens()` method of the `TargetReader` class. "
   ]
  },
  {
   "cell_type": "code",
   "execution_count": 3,
   "id": "3983d4c1-99fb-4237-aab2-6200ad272715",
   "metadata": {
    "tags": []
   },
   "outputs": [
    {
     "data": {
      "text/plain": [
       "[<Target: 40003002005>,\n",
       " <Target: 40004017011>,\n",
       " <Target: 41001015020>,\n",
       " <Target: 44002038005>,\n",
       " <Target: 44003019001>,\n",
       " <Target: 44008022001>,\n",
       " <Target: 66002005012>]"
      ]
     },
     "execution_count": 3,
     "metadata": {},
     "output_type": "execute_result"
    }
   ],
   "source": [
    "# case-sensitive\n",
    "ntbsb.term_tokens(\"Repent\")"
   ]
  },
  {
   "cell_type": "code",
   "execution_count": 4,
   "id": "71ce91ec-c90c-4d5a-8026-03b27cc34e62",
   "metadata": {},
   "outputs": [
    {
     "data": {
      "text/plain": [
       "[<Target: 40003002005>,\n",
       " <Target: 40004017011>,\n",
       " <Target: 40011020022>,\n",
       " <Target: 40021032037>,\n",
       " <Target: 41001015020>,\n",
       " <Target: 41006012011>,\n",
       " <Target: 42013003010>,\n",
       " <Target: 42013005010>,\n",
       " <Target: 42015007031>,\n",
       " <Target: 42016030025>,\n",
       " <Target: 42017004022>,\n",
       " <Target: 44002038005>,\n",
       " <Target: 44003019001>,\n",
       " <Target: 44008022001>,\n",
       " <Target: 44017030017>,\n",
       " <Target: 44026020029>,\n",
       " <Target: 66002005012>,\n",
       " <Target: 66002005027>,\n",
       " <Target: 66002016002>,\n",
       " <Target: 66002021009>,\n",
       " <Target: 66002022026>,\n",
       " <Target: 66003003015>,\n",
       " <Target: 66003019013>,\n",
       " <Target: 66009020016>,\n",
       " <Target: 66009021006>,\n",
       " <Target: 66016009029>,\n",
       " <Target: 66016011017>]"
      ]
     },
     "execution_count": 4,
     "metadata": {},
     "output_type": "execute_result"
    }
   ],
   "source": [
    "# case-insensitive\n",
    "ntbsb.term_tokens(\"Repent\", lowercase=True)"
   ]
  },
  {
   "cell_type": "code",
   "execution_count": null,
   "id": "7b933a16-bf53-48d6-bc49-7fcef5f43126",
   "metadata": {},
   "outputs": [],
   "source": []
  }
 ],
 "metadata": {
  "kernelspec": {
   "display_name": "Python 3 (ipykernel)",
   "language": "python",
   "name": "python3"
  },
  "language_info": {
   "codemirror_mode": {
    "name": "ipython",
    "version": 3
   },
   "file_extension": ".py",
   "mimetype": "text/x-python",
   "name": "python",
   "nbconvert_exporter": "python",
   "pygments_lexer": "ipython3",
   "version": "3.10.13"
  }
 },
 "nbformat": 4,
 "nbformat_minor": 5
}
