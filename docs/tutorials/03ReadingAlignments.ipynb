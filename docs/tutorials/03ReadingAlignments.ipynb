{
 "cells": [
  {
   "cell_type": "markdown",
   "id": "749ca76d-9379-4850-a67f-9556f105e89b",
   "metadata": {},
   "source": [
    "# Reading Alignment Data\n",
    "\n",
    "The alignment\n",
    "\n",
    "See [the index](00Index.ipynb) for the requirements to run this notebook.\n",
    "\n",
    "## Contents\n",
    "\n"
   ]
  },
  {
   "cell_type": "markdown",
   "id": "29b8c56d-ab86-473a-8749-5ed2fef0ff90",
   "metadata": {},
   "source": [
    "## AlignmentSet\n",
    "\n",
    "An `AlignmentSet` instance contains configuration information for source, target language, target version (paths and filenames). The data files are assumed to be organized as in the Alignments repository. "
   ]
  },
  {
   "cell_type": "code",
   "execution_count": 1,
   "id": "7430c55c-eac1-4530-85b0-ca2bb6d6df8d",
   "metadata": {
    "tags": []
   },
   "outputs": [
    {
     "data": {
      "text/plain": [
       "'SBLGNT-BSB-manual'"
      ]
     },
     "execution_count": 1,
     "metadata": {},
     "output_type": "execute_result"
    }
   ],
   "source": [
    "# load a set of alignment data: source tokens, target tokens, and alignments between them.\n",
    "# you need a local copy of the repository for this to work\n",
    "from bible_alignments.burrito import DATAPATH, Manager, AlignmentSet\n",
    "# your local copy of e.g. NT data for the Berean Standard Bible\n",
    "targetlang = \"eng\"\n",
    "# configure a set of files and paths. Source, target, and alignments must match.\n",
    "alset = AlignmentSet(targetlanguage=targetlang, targetid=\"BSB\", sourceid=\"SBLGNT\", langdatapath=(DATAPATH / targetlang))\n",
    "alset.identifier"
   ]
  },
  {
   "cell_type": "code",
   "execution_count": 2,
   "id": "fd22e410-1bd5-46bf-ab16-8b1d08539fcd",
   "metadata": {
    "tags": []
   },
   "outputs": [
    {
     "name": "stdout",
     "output_type": "stream",
     "text": [
      "\n",
      "        - sourcepath: /Users/sboisen/git/Clear-Bible/Alignments/data/sources/SBLGNT.tsv\n",
      "        - targetpath: /Users/sboisen/git/Clear-Bible/Alignments/data/eng/targets/BSB/nt_BSB.tsv\n",
      "        - alignmentpath: /Users/sboisen/git/Clear-Bible/Alignments/data/eng/alignments/BSB/SBLGNT-BSB-manual.json\n",
      "        - tomlpath: /Users/sboisen/git/Clear-Bible/Alignments/data/eng/alignments/BSB/SBLGNT-BSB-manual.toml\n",
      "        \n"
     ]
    }
   ],
   "source": [
    "# here's where the input files will come from\n",
    "print(alset.displaystr)"
   ]
  },
  {
   "cell_type": "code",
   "execution_count": 3,
   "id": "50324c4b-70df-4320-b604-cf7beca8b7f9",
   "metadata": {
    "tags": []
   },
   "outputs": [
    {
     "data": {
      "text/plain": [
       "True"
      ]
     },
     "execution_count": 3,
     "metadata": {},
     "output_type": "execute_result"
    }
   ],
   "source": [
    "# ensure the files are actually there\n",
    "alset.check_files()"
   ]
  },
  {
   "cell_type": "markdown",
   "id": "ab496153-3ed2-44e1-993b-cc9fee43f179",
   "metadata": {},
   "source": [
    "## Loading "
   ]
  },
  {
   "cell_type": "code",
   "execution_count": 4,
   "id": "3f973197-5221-4dba-a638-5e028429ef7e",
   "metadata": {
    "tags": []
   },
   "outputs": [
    {
     "name": "stdout",
     "output_type": "stream",
     "text": [
      "\n",
      "        - sourcepath: /Users/sboisen/git/Clear-Bible/Alignments/data/sources/SBLGNT.tsv\n",
      "        - targetpath: /Users/sboisen/git/Clear-Bible/Alignments/data/eng/targets/BSB/nt_BSB.tsv\n",
      "        - alignmentpath: /Users/sboisen/git/Clear-Bible/Alignments/data/eng/alignments/BSB/SBLGNT-BSB-manual.json\n",
      "        - tomlpath: /Users/sboisen/git/Clear-Bible/Alignments/data/eng/alignments/BSB/SBLGNT-BSB-manual.toml\n",
      "        \n"
     ]
    },
    {
     "data": {
      "text/plain": [
       "<VerseData: 40001024>"
      ]
     },
     "execution_count": 4,
     "metadata": {},
     "output_type": "execute_result"
    }
   ],
   "source": [
    "mgr = Manager(alset)\n",
    "mgr[\"40001024\"]"
   ]
  },
  {
   "cell_type": "code",
   "execution_count": 5,
   "id": "86ef36fe-aa9b-4550-a6a7-d92c7b32a5af",
   "metadata": {
    "tags": []
   },
   "outputs": [
    {
     "name": "stdout",
     "output_type": "stream",
     "text": [
      "/usr/local/Cellar/python@3.10/3.10.13_2/Frameworks/Python.framework/Versions/3.10/lib/python310.zip\n",
      "/usr/local/Cellar/python@3.10/3.10.13_2/Frameworks/Python.framework/Versions/3.10/lib/python3.10\n",
      "/usr/local/Cellar/python@3.10/3.10.13_2/Frameworks/Python.framework/Versions/3.10/lib/python3.10/lib-dynload\n",
      "\n",
      "/Users/sboisen/git/Clear-Bible/Alignments/.venv/lib/python3.10/site-packages\n",
      "/Users/sboisen/git/Clear-Bible/Alignments\n"
     ]
    }
   ],
   "source": [
    "import sys\n",
    "for p in sys.path: print(p)"
   ]
  },
  {
   "cell_type": "code",
   "execution_count": 6,
   "id": "1276de8b-fc32-483e-87d8-929548e5afba",
   "metadata": {
    "tags": []
   },
   "outputs": [
    {
     "data": {
      "text/plain": [
       "False"
      ]
     },
     "execution_count": 6,
     "metadata": {},
     "output_type": "execute_result"
    }
   ],
   "source": [
    "\"tomli\" in sys.modules"
   ]
  },
  {
   "cell_type": "code",
   "execution_count": 7,
   "id": "0a86023c-1949-4276-9d19-c92032f402b4",
   "metadata": {
    "tags": []
   },
   "outputs": [],
   "source": [
    "import tomli"
   ]
  }
 ],
 "metadata": {
  "kernelspec": {
   "display_name": "Python 3 (ipykernel)",
   "language": "python",
   "name": "python3"
  },
  "language_info": {
   "codemirror_mode": {
    "name": "ipython",
    "version": 3
   },
   "file_extension": ".py",
   "mimetype": "text/x-python",
   "name": "python",
   "nbconvert_exporter": "python",
   "pygments_lexer": "ipython3",
   "version": "3.10.13"
  }
 },
 "nbformat": 4,
 "nbformat_minor": 5
}
