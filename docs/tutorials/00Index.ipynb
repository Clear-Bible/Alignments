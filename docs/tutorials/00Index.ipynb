{
 "cells": [
  {
   "cell_type": "markdown",
   "id": "aa480c83-6bdf-4f51-be40-c5dbaf29218c",
   "metadata": {},
   "source": [
    "# AlignmentHub Tutorials\n",
    "\n",
    "Clear Bible is building a repository of Bible alignments and supporting Python code at https://github.com/Clear-Bible/alignments. These notebooks are intended to provide *learning-oriented experiences* for working with alignment data and processes. \n",
    "\n",
    "## Requirements\n",
    "\n",
    "This code assumes you have a local copy of the repository, with `poetry` installed, and the notebooks running within the `poetry` environment. \n",
    "\n",
    "## Notebooks\n",
    "\n",
    "* [Reading Source Data](01ReadingSourceData.ipynb)\n",
    "* [Reading Target Data](02ReadingTargetData.ipynb)\n",
    "* [Reading Alignments](03ReadingAlignments.ipynb)\n"
   ]
  }
 ],
 "metadata": {
  "kernelspec": {
   "display_name": "Python 3 (ipykernel)",
   "language": "python",
   "name": "python3"
  },
  "language_info": {
   "codemirror_mode": {
    "name": "ipython",
    "version": 3
   },
   "file_extension": ".py",
   "mimetype": "text/x-python",
   "name": "python",
   "nbconvert_exporter": "python",
   "pygments_lexer": "ipython3",
   "version": "3.10.13"
  }
 },
 "nbformat": 4,
 "nbformat_minor": 5
}
