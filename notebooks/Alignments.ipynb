{
  "cells": [
    {
      "cell_type": "markdown",
      "id": "7f09ec36-67cd-4d13-b370-84acea16d684",
      "metadata": {
        "tags": [],
        "id": "7f09ec36-67cd-4d13-b370-84acea16d684"
      },
      "source": [
        "<a href=\"https://colab.research.google.com/github/Clear-Bible/missional-ai/blob/main/07_Alignments.ipynb\" target=\"_parent\">\n",
        "<img src=\"https://colab.research.google.com/assets/colab-badge.svg\" alt=\"Open In Colab\"/></a>\n"
      ]
    },
    {
      "cell_type": "markdown",
      "id": "eab8bfb6-9f0b-4a77-ad67-4ec16040628a",
      "metadata": {
        "id": "eab8bfb6-9f0b-4a77-ad67-4ec16040628a"
      },
      "source": [
        "# Bible Alignments\n",
        "\n",
        "Clear Bible is building a repository of Bible alignments and supporting Python code at https://github.com/Clear-Bible/alignments.\n",
        "\n",
        "This notebook shows a simple example of loading and displaying the alignment data for Mark 1-2.\n",
        "\n",
        "A subset of the data has been included in this repository for the NA27 Greek New Testament, and the Lexham English Bible. Full data is not included because of copyright restrictions."
      ]
    },
    {
      "cell_type": "code",
      "execution_count": null,
      "id": "9216cfa2-cf7a-46fa-bf42-a8313298fa34",
      "metadata": {
        "tags": [],
        "id": "9216cfa2-cf7a-46fa-bf42-a8313298fa34"
      },
      "outputs": [],
      "source": [
        "%%capture\n",
        "# quietly install the code and dependencies\n",
        "# comment out the capture line for debugging information\n",
        "!pip install \"bible-alignments>=0.2.12\""
      ]
    },
    {
      "cell_type": "code",
      "execution_count": null,
      "id": "e14d333f-70c1-4b5c-aa85-de96d8d0ec83",
      "metadata": {
        "tags": [],
        "id": "e14d333f-70c1-4b5c-aa85-de96d8d0ec83"
      },
      "outputs": [],
      "source": [
        "from bible_alignments import config, grapecity\n",
        "\n",
        "# reset paths for the notebook\n",
        "# this overwrites the values from bible-alignments\n",
        "import os\n",
        "from pathlib import Path\n",
        "\n",
        "# reset paths for the notebook\n",
        "# this overwrites the values from bible-alignments\n",
        "config.ROOT = Path(os.getcwd())\n",
        "\n",
        "# these four lines are for Colab use: you can comment them out for running locally\n",
        "if \"missional-ai\" not in os.listdir():\n",
        "  !git clone https://github.com/Clear-Bible/missional-ai.git\n",
        "if \"missional-ai\" in os.listdir():\n",
        "  config.ROOT = Path(os.getcwd()) / \"missional-ai\"\n",
        "\n",
        "DATAPATH = config.ROOT / \"data\"\n",
        "print(f\"DATAPATH = {DATAPATH}\")\n",
        "\n",
        "config.ALIGNMENTS = DATAPATH / \"alignments\"\n",
        "config.SOURCES = DATAPATH / \"sources\"\n",
        "config.TARGETS = DATAPATH / \"targets\"\n",
        "config.NAMES = DATAPATH / \"names\"\n"
      ]
    },
    {
      "cell_type": "code",
      "execution_count": null,
      "id": "4944b152-1f9c-4b28-bcf9-08d4f63b5883",
      "metadata": {
        "tags": [],
        "id": "4944b152-1f9c-4b28-bcf9-08d4f63b5883"
      },
      "outputs": [],
      "source": [
        "# display the source data for Mark 1:1\n",
        "from bible_alignments import gcsource\n",
        "cfg = config.Configuration(sourceid=\"NA27\", targetid=\"LEB\", targetlanguage=\"eng\", processid=\"manual\")\n",
        "sourcerd = gcsource.Reader(cfg)\n",
        "\n",
        "_fields: tuple = (\"identifier\", \"text\", \"lemma\", \"pos\", \"morph\", \"gloss\")\n",
        "print(\"\\t     \".join(_fields))\n",
        "for k in sourcerd.keys():\n",
        "    if k.startswith(\"41001001\"):\n",
        "        s = sourcerd[k]\n",
        "        print(\"\\t     \".join(f\"{getattr(s, f):10}\" for f in _fields))"
      ]
    },
    {
      "cell_type": "code",
      "execution_count": null,
      "id": "1e42d666-4b64-4416-a3f5-558e028f4b2d",
      "metadata": {
        "tags": [],
        "id": "1e42d666-4b64-4416-a3f5-558e028f4b2d"
      },
      "outputs": [],
      "source": [
        "# likewise with the target data\n",
        "from bible_alignments import gctarget\n",
        "targetrd = gctarget.Reader(cfg)\n",
        "\n",
        "_fields: tuple = (\"identifier\", \"text\", \"transType\", \"isPunc\", \"isPrimary\")\n",
        "print(\"\\t     \".join(_fields))\n",
        "for k in targetrd.keys():\n",
        "    if k.startswith(\"41001001\"):\n",
        "        s = targetrd[k]\n",
        "        print(\"\\t     \".join(f\"{getattr(s, f):10}\" for f in _fields))"
      ]
    },
    {
      "cell_type": "code",
      "execution_count": null,
      "id": "e0cc099f-ac32-4174-a9a1-a7c380fe08c3",
      "metadata": {
        "id": "e0cc099f-ac32-4174-a9a1-a7c380fe08c3"
      },
      "outputs": [],
      "source": [
        "rd = grapecity.Reader(cfg)"
      ]
    },
    {
      "cell_type": "code",
      "execution_count": null,
      "id": "d59d69c2-c62b-4740-8736-f34cbc770dff",
      "metadata": {
        "tags": [],
        "id": "d59d69c2-c62b-4740-8736-f34cbc770dff"
      },
      "outputs": [],
      "source": [
        "# show an overview of the loaded alignment data\n",
        "# note there are about 50% more English tokens than Greek ones: many of these are likely to be punctuation.\n",
        "rd.display()"
      ]
    },
    {
      "cell_type": "code",
      "execution_count": null,
      "id": "7b06a561-5852-426a-a42d-c4340c221381",
      "metadata": {
        "tags": [],
        "id": "7b06a561-5852-426a-a42d-c4340c221381"
      },
      "outputs": [],
      "source": [
        "# display the alignments for Mark 1:1\n",
        "for k in rd.keys():\n",
        "    if k.startswith(\"41001001\"):\n",
        "        rd[k].display()"
      ]
    },
    {
      "cell_type": "code",
      "execution_count": null,
      "id": "318af9e1-d995-4592-832f-3c55d8c89bb8",
      "metadata": {
        "tags": [],
        "id": "318af9e1-d995-4592-832f-3c55d8c89bb8"
      },
      "outputs": [],
      "source": [
        "# display the alignments for Mark 1:2\n",
        "for k in rd.keys():\n",
        "    if k.startswith(\"41001002\"):\n",
        "        rd[k].display()"
      ]
    },
    {
      "cell_type": "code",
      "execution_count": null,
      "id": "7d784ca2-ce73-4cf5-a609-bac8574de88f",
      "metadata": {
        "id": "7d784ca2-ce73-4cf5-a609-bac8574de88f"
      },
      "outputs": [],
      "source": []
    }
  ],
  "metadata": {
    "kernelspec": {
      "display_name": "Python 3 (ipykernel)",
      "language": "python",
      "name": "python3"
    },
    "language_info": {
      "codemirror_mode": {
        "name": "ipython",
        "version": 3
      },
      "file_extension": ".py",
      "mimetype": "text/x-python",
      "name": "python",
      "nbconvert_exporter": "python",
      "pygments_lexer": "ipython3",
      "version": "3.11.3"
    },
    "colab": {
      "provenance": []
    }
  },
  "nbformat": 4,
  "nbformat_minor": 5
}