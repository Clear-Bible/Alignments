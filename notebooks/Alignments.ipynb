{
 "cells": [
  {
   "cell_type": "markdown",
   "id": "7f09ec36-67cd-4d13-b370-84acea16d684",
   "metadata": {
    "id": "7f09ec36-67cd-4d13-b370-84acea16d684",
    "tags": []
   },
   "source": [
    "<a href=\"https://colab.research.google.com/github/Clear-Bible/Alignments/blob/main/notebooks/Alignments.ipynb\" target=\"_parent\">\n",
    "<img src=\"https://colab.research.google.com/assets/colab-badge.svg\" alt=\"Open In Colab\"/></a>\n"
   ]
  },
  {
   "cell_type": "markdown",
   "id": "eab8bfb6-9f0b-4a77-ad67-4ec16040628a",
   "metadata": {
    "id": "eab8bfb6-9f0b-4a77-ad67-4ec16040628a"
   },
   "source": [
    "# Bible Alignments\n",
    "\n",
    "This notebook shows a simple example of loading and displaying the alignment data for Mark 1-2. \n",
    "\n",
    "This assumes you have a local copy of the repo for loading data files. "
   ]
  },
  {
   "cell_type": "code",
   "execution_count": 1,
   "id": "9216cfa2-cf7a-46fa-bf42-a8313298fa34",
   "metadata": {
    "id": "9216cfa2-cf7a-46fa-bf42-a8313298fa34",
    "tags": []
   },
   "outputs": [],
   "source": [
    "%%capture\n",
    "# quietly install the code and dependencies\n",
    "# comment out the capture line for debugging information\n",
    "!pip install \"bible-alignments>=0.3\""
   ]
  },
  {
   "cell_type": "code",
   "execution_count": 2,
   "id": "e14d333f-70c1-4b5c-aa85-de96d8d0ec83",
   "metadata": {
    "id": "e14d333f-70c1-4b5c-aa85-de96d8d0ec83",
    "tags": []
   },
   "outputs": [
    {
     "name": "stdout",
     "output_type": "stream",
     "text": [
      "DATAPATH = /Users/sboisen/git/Clear-Bible/Alignments/data\n"
     ]
    }
   ],
   "source": [
    "import os\n",
    "from pathlib import Path\n",
    "\n",
    "import pandas as pd\n",
    "# don't limit the width\n",
    "pd.set_option(\"max_colwidth\", None)\n",
    "pd.set_option(\"display.max_columns\", None)\n",
    "\n",
    "from bible_alignments import config, grapecity\n",
    "\n",
    "DATAPATH = config.ROOT / \"data\"\n",
    "print(f\"DATAPATH = {DATAPATH}\")\n",
    "\n",
    "config.ALIGNMENTS = DATAPATH / \"alignments\"\n",
    "config.SOURCES = DATAPATH / \"sources\"\n",
    "config.TARGETS = DATAPATH / \"targets\"\n",
    "config.NAMES = DATAPATH / \"names\"\n"
   ]
  },
  {
   "cell_type": "code",
   "execution_count": 3,
   "id": "4944b152-1f9c-4b28-bcf9-08d4f63b5883",
   "metadata": {
    "id": "4944b152-1f9c-4b28-bcf9-08d4f63b5883",
    "tags": []
   },
   "outputs": [
    {
     "name": "stdout",
     "output_type": "stream",
     "text": [
      "identifier\t     text\t     lemma\t     pos\t     morph\t     gloss\n",
      "410010010011\t     --        \t     ἀρχή      \t     noun      \t     n- -nsf-  \t     [the] beginning\n",
      "410010010021\t     --        \t     ὁ         \t     det       \t     ra -gsn-  \t     of the    \n",
      "410010010031\t     --        \t     εὐαγγέλιον\t     noun      \t     n- -gsn-  \t     good news \n",
      "410010010041\t     --        \t     Ἰησοῦς    \t     Name      \t     nr -gsm-  \t     of Jesus  \n",
      "410010010051\t     --        \t     Χριστός   \t     Name      \t     nr -gsm-  \t     Christ    \n",
      "410010010061\t     --        \t     υἱός      \t     noun      \t     n- -gsm-  \t     [the] son \n",
      "410010010071\t     --        \t     θεός      \t     noun      \t     n- -gsm-  \t     of God.   \n"
     ]
    }
   ],
   "source": [
    "# display the source data for Mark 1:1\n",
    "# source text is omitted because of copyright, but lemmas indicate the words\n",
    "# use the configuration for Young's Literal Translation so we can include target text\n",
    "from bible_alignments import gcsource\n",
    "cfg = config.Configuration(sourceid=\"NA27\", targetid=\"YLT\", targetlanguage=\"eng\", processid=\"manual\")\n",
    "sourcerd = gcsource.Reader(cfg)\n",
    "\n",
    "_fields: tuple = (\"identifier\", \"text\", \"lemma\", \"pos\", \"morph\", \"gloss\")\n",
    "print(\"\\t     \".join(_fields))\n",
    "for k in sourcerd.keys():\n",
    "    if k.startswith(\"41001001\"):\n",
    "        s = sourcerd[k]\n",
    "        print(\"\\t     \".join(f\"{getattr(s, f):10}\" for f in _fields))"
   ]
  },
  {
   "cell_type": "code",
   "execution_count": 4,
   "id": "1e42d666-4b64-4416-a3f5-558e028f4b2d",
   "metadata": {
    "id": "1e42d666-4b64-4416-a3f5-558e028f4b2d",
    "tags": []
   },
   "outputs": [
    {
     "name": "stdout",
     "output_type": "stream",
     "text": [
      "identifier\t     text\t     transType\t     isPunc\t     isPrimary\n",
      "41001001001\t     A         \t     m         \t              0\t              0\n",
      "41001001002\t     beginning \t     k         \t              0\t              1\n",
      "41001001003\t     of        \t     m         \t              0\t              0\n",
      "41001001004\t     the       \t     k         \t              0\t              1\n",
      "41001001005\t     good      \t     k         \t              0\t              1\n",
      "41001001006\t     news      \t     k         \t              0\t              0\n",
      "41001001007\t     of        \t     m         \t              0\t              0\n",
      "41001001008\t     Jesus     \t     k         \t              0\t              1\n",
      "41001001009\t     Christ    \t     k         \t              0\t              1\n",
      "41001001010\t     ,         \t               \t              0\t              0\n",
      "41001001011\t     Son       \t     k         \t              0\t              1\n",
      "41001001012\t     of        \t     m         \t              0\t              0\n",
      "41001001013\t     God       \t     k         \t              0\t              1\n",
      "41001001014\t     .         \t               \t              0\t              0\n"
     ]
    }
   ],
   "source": [
    "# likewise with the target data\n",
    "# note the isPunc attribute is not correct for several tokens\n",
    "from bible_alignments import gctarget\n",
    "targetrd = gctarget.Reader(cfg)\n",
    "\n",
    "_fields: tuple = (\"identifier\", \"text\", \"transType\", \"isPunc\", \"isPrimary\")\n",
    "print(\"\\t     \".join(_fields))\n",
    "for k in targetrd.keys():\n",
    "    if k.startswith(\"41001001\"):\n",
    "        s = targetrd[k]\n",
    "        print(\"\\t     \".join(f\"{getattr(s, f):10}\" for f in _fields))"
   ]
  },
  {
   "cell_type": "code",
   "execution_count": 5,
   "id": "e0cc099f-ac32-4174-a9a1-a7c380fe08c3",
   "metadata": {
    "id": "e0cc099f-ac32-4174-a9a1-a7c380fe08c3",
    "tags": []
   },
   "outputs": [],
   "source": [
    "rd = grapecity.Reader(cfg)"
   ]
  },
  {
   "cell_type": "markdown",
   "id": "4cd0814c-ceb0-466c-880a-8995d8cc953c",
   "metadata": {},
   "source": [
    "## Displaying Alignment Data"
   ]
  },
  {
   "cell_type": "code",
   "execution_count": 6,
   "id": "d59d69c2-c62b-4740-8736-f34cbc770dff",
   "metadata": {
    "id": "d59d69c2-c62b-4740-8736-f34cbc770dff",
    "tags": []
   },
   "outputs": [
    {
     "name": "stdout",
     "output_type": "stream",
     "text": [
      "Source:\tNA27\t(138013 words)\n",
      "Target:\tYLT\t(223879 words)\n",
      "Process:\tmanual\n",
      "127902 alignments\n"
     ]
    }
   ],
   "source": [
    "# show an overview of the loaded alignment data\n",
    "# note there are about 50% more English tokens than Greek ones: many of these are likely to be punctuation.\n",
    "rd.display()"
   ]
  },
  {
   "cell_type": "code",
   "execution_count": 7,
   "id": "7b06a561-5852-426a-a42d-c4340c221381",
   "metadata": {
    "id": "7b06a561-5852-426a-a42d-c4340c221381",
    "tags": []
   },
   "outputs": [
    {
     "name": "stdout",
     "output_type": "stream",
     "text": [
      "41001001.1: ['ἀρχή']\t['beginning', 'A']\n",
      "41001001.2: ['ὁ']\t['the']\n",
      "41001001.3: ['εὐαγγέλιον']\t['good', 'of', 'news']\n",
      "41001001.4: ['Ἰησοῦς']\t['Jesus', 'of']\n",
      "41001001.5: ['Χριστός']\t['Christ']\n",
      "41001001.6: ['υἱός']\t['Son']\n",
      "41001001.7: ['θεός']\t['God', 'of']\n"
     ]
    }
   ],
   "source": [
    "# display the aligned tokens for Mark 1:1\n",
    "for k in rd.keys():\n",
    "    if k.startswith(\"41001001\"):\n",
    "        rd[k].display()"
   ]
  },
  {
   "cell_type": "code",
   "execution_count": 8,
   "id": "318af9e1-d995-4592-832f-3c55d8c89bb8",
   "metadata": {
    "id": "318af9e1-d995-4592-832f-3c55d8c89bb8",
    "tags": []
   },
   "outputs": [
    {
     "name": "stdout",
     "output_type": "stream",
     "text": [
      "41001002.1: ['καθώς']\t['As']\n",
      "41001002.2: ['γράφω']\t['written', 'it', 'hath', 'been']\n",
      "41001002.3: ['ἐν']\t['in']\n",
      "41001002.4: ['ὁ']\t['the']\n",
      "41001002.5: ['προφήτης']\t['prophets']\n",
      "41001002.6: ['ὁράω']\t['Lo']\n",
      "41001002.7: ['ἀποστέλλω']\t['send', 'I']\n",
      "41001002.8: ['ἄγγελος']\t['messenger']\n",
      "41001002.9: ['ἐγώ']\t['My']\n",
      "41001002.10: ['πρό']\t['before']\n",
      "41001002.11: ['πρόσωπον']\t['face']\n",
      "41001002.12: ['σύ']\t['thy']\n",
      "41001002.13: ['ὅς']\t['who']\n",
      "41001002.14: ['κατασκευάζω']\t['prepare', 'shall']\n",
      "41001002.15: ['ὁδός']\t['way']\n",
      "41001002.16: ['σύ']\t['thy']\n"
     ]
    }
   ],
   "source": [
    "# display the aligned tokens for Mark 1:2\n",
    "for k in rd.keys():\n",
    "    if k.startswith(\"41001002\"):\n",
    "        rd[k].display()"
   ]
  },
  {
   "cell_type": "code",
   "execution_count": 9,
   "id": "7d784ca2-ce73-4cf5-a609-bac8574de88f",
   "metadata": {
    "id": "7d784ca2-ce73-4cf5-a609-bac8574de88f",
    "tags": []
   },
   "outputs": [
    {
     "name": "stdout",
     "output_type": "stream",
     "text": [
      "40001022.12: ['προφήτης']\t['prophet']\n",
      "40002005.13: ['προφήτης']\t['prophet']\n",
      "40002015.15: ['προφήτης']\t['prophet']\n",
      "40002017.8: ['προφήτης']\t['prophet']\n",
      "40002023.13: ['προφήτης']\t['prophets']\n",
      "40003003.9: ['προφήτης']\t['prophet']\n",
      "40004014.7: ['προφήτης']\t['prophet']\n",
      "40005012.15: ['προφήτης']\t['prophets']\n",
      "40005017.10: ['προφήτης']\t['prophets']\n",
      "40007012.20: ['προφήτης']\t['prophets']\n",
      "40008017.7: ['προφήτης']\t['prophet']\n",
      "40010041.3: ['προφήτης']\t['prophet', 'a']\n",
      "40010041.6: ['προφήτης']\t['prophet', 'of', 'a']\n",
      "40010041.8: ['προφήτης']\t['prophet’s', 'a']\n",
      "40011009.5: ['προφήτης']\t['prophet', 'a']\n",
      "40011009.11: ['προφήτης']\t['prophet', 'a']\n",
      "40011013.4: ['προφήτης']\t['prophets']\n",
      "40012017.7: ['προφήτης']\t['prophet']\n",
      "40012039.21: ['προφήτης']\t['prophet']\n",
      "40013017.7: ['προφήτης']\t['prophets']\n"
     ]
    }
   ],
   "source": [
    "# return alignment groups whose lemma is 'προφήτης' (prophet) and display the first 20\n",
    "for alignmentgroup in rd.source_concordance('προφήτης')[:20]:\n",
    "    alignmentgroup.display()"
   ]
  },
  {
   "cell_type": "code",
   "execution_count": 11,
   "id": "a29cfa12-4fff-4d30-a652-3c5cd9b10371",
   "metadata": {
    "tags": []
   },
   "outputs": [
    {
     "data": {
      "text/html": [
       "<div>\n",
       "<style scoped>\n",
       "    .dataframe tbody tr th:only-of-type {\n",
       "        vertical-align: middle;\n",
       "    }\n",
       "\n",
       "    .dataframe tbody tr th {\n",
       "        vertical-align: top;\n",
       "    }\n",
       "\n",
       "    .dataframe thead th {\n",
       "        text-align: right;\n",
       "    }\n",
       "</style>\n",
       "<table border=\"1\" class=\"dataframe\">\n",
       "  <thead>\n",
       "    <tr style=\"text-align: right;\">\n",
       "      <th></th>\n",
       "      <th>A</th>\n",
       "      <th>beginning</th>\n",
       "      <th>of</th>\n",
       "      <th>the</th>\n",
       "      <th>good</th>\n",
       "      <th>news</th>\n",
       "      <th>of</th>\n",
       "      <th>Jesus</th>\n",
       "      <th>Christ</th>\n",
       "      <th>,</th>\n",
       "      <th>Son</th>\n",
       "      <th>of</th>\n",
       "      <th>God</th>\n",
       "      <th>.</th>\n",
       "    </tr>\n",
       "  </thead>\n",
       "  <tbody>\n",
       "    <tr>\n",
       "      <th>ἀρχή</th>\n",
       "      <td>-G-</td>\n",
       "      <td>-G-</td>\n",
       "      <td></td>\n",
       "      <td></td>\n",
       "      <td></td>\n",
       "      <td></td>\n",
       "      <td></td>\n",
       "      <td></td>\n",
       "      <td></td>\n",
       "      <td></td>\n",
       "      <td></td>\n",
       "      <td></td>\n",
       "      <td></td>\n",
       "      <td></td>\n",
       "    </tr>\n",
       "    <tr>\n",
       "      <th>ὁ</th>\n",
       "      <td></td>\n",
       "      <td></td>\n",
       "      <td></td>\n",
       "      <td>-G-</td>\n",
       "      <td></td>\n",
       "      <td></td>\n",
       "      <td></td>\n",
       "      <td></td>\n",
       "      <td></td>\n",
       "      <td></td>\n",
       "      <td></td>\n",
       "      <td></td>\n",
       "      <td></td>\n",
       "      <td></td>\n",
       "    </tr>\n",
       "    <tr>\n",
       "      <th>εὐαγγέλιον</th>\n",
       "      <td></td>\n",
       "      <td></td>\n",
       "      <td>-G-</td>\n",
       "      <td></td>\n",
       "      <td>-G-</td>\n",
       "      <td>-G-</td>\n",
       "      <td></td>\n",
       "      <td></td>\n",
       "      <td></td>\n",
       "      <td></td>\n",
       "      <td></td>\n",
       "      <td></td>\n",
       "      <td></td>\n",
       "      <td></td>\n",
       "    </tr>\n",
       "    <tr>\n",
       "      <th>Ἰησοῦς</th>\n",
       "      <td></td>\n",
       "      <td></td>\n",
       "      <td></td>\n",
       "      <td></td>\n",
       "      <td></td>\n",
       "      <td></td>\n",
       "      <td>-G-</td>\n",
       "      <td>-G-</td>\n",
       "      <td></td>\n",
       "      <td></td>\n",
       "      <td></td>\n",
       "      <td></td>\n",
       "      <td></td>\n",
       "      <td></td>\n",
       "    </tr>\n",
       "    <tr>\n",
       "      <th>Χριστός</th>\n",
       "      <td></td>\n",
       "      <td></td>\n",
       "      <td></td>\n",
       "      <td></td>\n",
       "      <td></td>\n",
       "      <td></td>\n",
       "      <td></td>\n",
       "      <td></td>\n",
       "      <td>-G-</td>\n",
       "      <td></td>\n",
       "      <td></td>\n",
       "      <td></td>\n",
       "      <td></td>\n",
       "      <td></td>\n",
       "    </tr>\n",
       "    <tr>\n",
       "      <th>υἱός</th>\n",
       "      <td></td>\n",
       "      <td></td>\n",
       "      <td></td>\n",
       "      <td></td>\n",
       "      <td></td>\n",
       "      <td></td>\n",
       "      <td></td>\n",
       "      <td></td>\n",
       "      <td></td>\n",
       "      <td></td>\n",
       "      <td>-G-</td>\n",
       "      <td></td>\n",
       "      <td></td>\n",
       "      <td></td>\n",
       "    </tr>\n",
       "    <tr>\n",
       "      <th>θεός</th>\n",
       "      <td></td>\n",
       "      <td></td>\n",
       "      <td></td>\n",
       "      <td></td>\n",
       "      <td></td>\n",
       "      <td></td>\n",
       "      <td></td>\n",
       "      <td></td>\n",
       "      <td></td>\n",
       "      <td></td>\n",
       "      <td></td>\n",
       "      <td>-G-</td>\n",
       "      <td>-G-</td>\n",
       "      <td></td>\n",
       "    </tr>\n",
       "  </tbody>\n",
       "</table>\n",
       "</div>"
      ],
      "text/plain": [
       "              A beginning   of  the good news   of Jesus Christ   ,  Son   of  \\\n",
       "ἀρχή        -G-       -G-                                                       \n",
       "ὁ                               -G-                                             \n",
       "εὐαγγέλιον                 -G-       -G-  -G-                                   \n",
       "Ἰησοῦς                                         -G-   -G-                        \n",
       "Χριστός                                                     -G-                 \n",
       "υἱός                                                                 -G-        \n",
       "θεός                                                                      -G-   \n",
       "\n",
       "            God   .  \n",
       "ἀρχή                 \n",
       "ὁ                    \n",
       "εὐαγγέλιον           \n",
       "Ἰησοῦς               \n",
       "Χριστός              \n",
       "υἱός                 \n",
       "θεός        -G-      "
      ]
     },
     "execution_count": 11,
     "metadata": {},
     "output_type": "execute_result"
    }
   ],
   "source": [
    "# Show an alignment matrix for MRK 1:2, displaying Greek lemmas\n",
    "# -G- indicates gold standard alignments\n",
    "#\n",
    "# Notes:\n",
    "# - YLT has a different textual basis, so doesn't include any alignable text for \"in Isaiah\"\n",
    "rd.dataframe(\"41001001\")"
   ]
  },
  {
   "cell_type": "code",
   "execution_count": null,
   "id": "1cf9fb1e-ec02-4c1a-a203-b9ffe89c5b85",
   "metadata": {},
   "outputs": [],
   "source": []
  }
 ],
 "metadata": {
  "colab": {
   "provenance": []
  },
  "kernelspec": {
   "display_name": "Python 3 (ipykernel)",
   "language": "python",
   "name": "python3"
  },
  "language_info": {
   "codemirror_mode": {
    "name": "ipython",
    "version": 3
   },
   "file_extension": ".py",
   "mimetype": "text/x-python",
   "name": "python",
   "nbconvert_exporter": "python",
   "pygments_lexer": "ipython3",
   "version": "3.10.13"
  }
 },
 "nbformat": 4,
 "nbformat_minor": 5
}
