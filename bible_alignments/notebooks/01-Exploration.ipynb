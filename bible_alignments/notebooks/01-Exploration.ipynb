{
 "cells": [
  {
   "cell_type": "markdown",
   "id": "504c1ac0-5325-4daa-a793-ee7023c9fe9b",
   "metadata": {},
   "source": [
    "# Exploring Alignment Data\n",
    "\n",
    "This notebook shows how to load and explore the aligned Bible data available from this repository.\n",
    "\n",
    "Aligned words are identified using a BBCCCVVVWWWP format: for example, \"400010020031\" refers to\n",
    "\n",
    "* Matthew (book 40)\n",
    "* Chapter 1 (001)\n",
    "* Verse 2 (002)\n",
    "* Word 3 in this text's sequence (003)\n",
    "* Part 1 (For Greek, this is always 1: for Hebrew, words may be segmented into multiple parts)\n"
   ]
  },
  {
   "cell_type": "code",
   "execution_count": 1,
   "id": "aefe11ba-a15f-46e8-8482-d49467c42cae",
   "metadata": {
    "tags": []
   },
   "outputs": [],
   "source": [
    "from bible_alignments import ROOT, DATAPATH, ALIGNMENTS, SOURCES, TARGETS\n"
   ]
  },
  {
   "cell_type": "markdown",
   "id": "23af933b-6d6f-43bb-8cd0-1beb33bc207b",
   "metadata": {},
   "source": [
    "## Available Alignments\n",
    "\n",
    "Alignments are grouped by language (using ISO-639-3 codes) and then by version abbreviation. Typically the OT alignment is separate from the NT alignment.\n",
    "\n",
    "The alignment file format is described in docs/format.md .\n",
    "\n",
    "Here's a list of the currently available alignments."
   ]
  },
  {
   "cell_type": "code",
   "execution_count": 2,
   "id": "21acad12-8b4e-4e74-967e-fb091cd6f282",
   "metadata": {
    "tags": []
   },
   "outputs": [
    {
     "name": "stdout",
     "output_type": "stream",
     "text": [
      "data/arb/AVD\n",
      "data/eng/BSB\n",
      "data/eng/YLT\n",
      "data/hin/HSB\n"
     ]
    }
   ],
   "source": [
    "alignments = sorted([f\"data/{lang.name}/{version.name}\" \n",
    "                     for lang in ALIGNMENTS.glob(\"*\") \n",
    "                     for version in lang.glob(\"[A-Z]*\")])\n",
    "for al in alignments:\n",
    "    print(al)"
   ]
  },
  {
   "cell_type": "markdown",
   "id": "4a518808-d412-4ff7-8d70-9187f4ad4675",
   "metadata": {},
   "source": [
    "Here's an example of the raw alignment file for the SBLGNT aligned with the Berean Standard Bible, in Scripture Burrito format."
   ]
  },
  {
   "cell_type": "code",
   "execution_count": 3,
   "id": "382feb0d-f3b0-47bd-b1f9-b39b6bfeea66",
   "metadata": {
    "tags": []
   },
   "outputs": [
    {
     "name": "stdout",
     "output_type": "stream",
     "text": [
      "{\n",
      " \"documents\": [\n",
      "    {\"docid\": \"SBLGNT\", \"scheme\": \"BCVWP\"},\n",
      "    {\"docid\": \"BSB\", \"scheme\": \"BCVWP\"}\n",
      " ],\n",
      " \"meta\": {\"conformsTo\": \"0.3\", \"creator\": \"Berean Bible\"},\n",
      " \"roles\": [\"source\", \"target\"],\n",
      " \"type\": \"translation\",\n",
      " \"records\": [\n",
      " {\"source\": [\"n40001001001\"], \"target\": [\"400010010011\", \"400010010021\", \"400010010031\", \"400010010041\"], \"meta\": {\"id\": \"40001001.001\", \"process\": \"manual\"}},\n",
      " {\"source\": [\"n40001001002\"], \"target\": [\"400010010051\", \"400010010061\", \"400010010071\"], \"meta\": {\"id\": \"40001001.002\", \"process\": \"manual\"}},\n",
      " {\"source\": [\"n40001001003\"], \"target\": [\"400010010081\", \"400010010091\"], \"meta\": {\"id\": \"40001001.003\", \"process\": \"manual\"}},\n",
      " {\"source\": [\"n40001001004\"], \"target\": [\"400010010101\"], \"meta\": {\"id\": \"40001001.004\", \"process\": \"manual\"}},\n",
      " {\"source\": [\"n40001001005\"], \"target\": [\"400010010121\", \"400010010131\"], \"meta\": {\"id\": \"40001001.005\", \"process\": \"manual\"}},\n",
      " {\"source\": [\"n40001001006\"], \"target\": [\"400010010141\", \"400010010151\"], \"meta\": {\"id\": \"40001001.006\", \"process\": \"manual\"}},\n",
      " {\"source\": [\"n40001001007\"], \"target\": [\"400010010171\", \"400010010181\"], \"meta\": {\"id\": \"40001001.007\", \"process\": \"manual\"}},\n",
      " {\"source\": [\"n40001001008\"], \"target\": [\"400010010191\", \"400010010201\"], \"meta\": {\"id\": \"40001001.008\", \"process\": \"manual\"}},\n",
      " {\"source\": [\"n40001002001\"], \"target\": [\"400010020011\"], \"meta\": {\"id\": \"40001002.001\", \"process\": \"manual\"}},\n",
      " {\"source\": [\"n40001002002\"], \"target\": [\"400010020021\", \"400010020031\", \"400010020041\", \"400010020051\"], \"meta\": {\"id\": \"40001002.002\", \"process\": \"manual\"}},\n",
      " {\"source\": [\"n40001002004\"], \"target\": [\"400010020061\"], \"meta\": {\"id\": \"40001002.004\", \"process\": \"manual\"}},\n"
     ]
    }
   ],
   "source": [
    "!head -20 ../../data/alignments/eng/BSB/SBLGNT-BSB-manual.json"
   ]
  },
  {
   "cell_type": "markdown",
   "id": "ce95027c-5b92-4e60-b1b5-176fc90c4610",
   "metadata": {},
   "source": [
    "## Source and Target Files"
   ]
  },
  {
   "cell_type": "markdown",
   "id": "d718bf8d-9609-40ed-be65-4108041cb573",
   "metadata": {},
   "source": [
    "For each alignment file, there is a corresponding source and target file in TSV format that identifies each word by a unique identifier. Some source or target texts are copyrighted: in such cases, the surface text is omitted, but other metadata is still available.\n",
    "\n",
    "Here's an example of the raw data for the SBLGNT, followed by the Berean Standard Bible. "
   ]
  },
  {
   "cell_type": "code",
   "execution_count": 4,
   "id": "332e4da8-8257-48f7-8f13-dec41b96c1d0",
   "metadata": {
    "tags": []
   },
   "outputs": [
    {
     "name": "stdout",
     "output_type": "stream",
     "text": [
      "id\taltId\ttext\tstrongs\tgloss\tgloss2\tlemma\tpos\tmorph\n",
      "n40001001001\tΒίβλος-1\tΒίβλος\tG0976\t[The] book\tbook\tβίβλος\tnoun\tN-NSF\n",
      "n40001001002\tγενέσεως-1\tγενέσεως\tG1078\tof [the] genealogy\tgenealogy\tγένεσις\tnoun\tN-GSF\n",
      "n40001001003\tἸησοῦ-1\tἸησοῦ\tG2424\tof Jesus\tJesus\tἸησοῦς\tnoun\tN-GSM\n",
      "n40001001004\tχριστοῦ-1\tχριστοῦ\tG5547\tChrist\tChrist\tΧριστός\tnoun\tN-GSM\n",
      "n40001001005\tυἱοῦ-1\tυἱοῦ\tG5207\tson\tson\tυἱός\tnoun\tN-GSM\n",
      "n40001001006\tΔαυὶδ-1\tΔαυὶδ\tG1138\tof David\tDavid\tΔαυίδ\tnoun\tN-PRI\n",
      "n40001001007\tυἱοῦ-2\tυἱοῦ\tG5207\tson\tson\tυἱός\tnoun\tN-GSM\n",
      "n40001001008\tἈβραάμ-1\tἈβραάμ\tG0011\tof Abraham\tAbraham\tἈβραάμ\tnoun\tN-PRI\n",
      "n40001002001\tἈβραὰμ-1\tἈβραὰμ\tG0011\tAbraham\tAbraham\tἈβραάμ\tnoun\tN-PRI\n"
     ]
    }
   ],
   "source": [
    "# The source file for the SBL Greek New Testament (SBLGNT).\n",
    "# \n",
    "!head ../../data/sources/SBLGNT.tsv"
   ]
  },
  {
   "cell_type": "code",
   "execution_count": 5,
   "id": "cc761732-5b0b-41ea-89f4-7c16546af597",
   "metadata": {
    "tags": []
   },
   "outputs": [
    {
     "name": "stdout",
     "output_type": "stream",
     "text": [
      "id\taltId\ttext\ttransType\tisPunc\tisPrimary\n",
      "400010010011\tThis-1\tThis\t\tFalse\tTrue\n",
      "400010010021\tis-1\tis\t\tFalse\tTrue\n",
      "400010010031\tthe-1\tthe\t\tFalse\tTrue\n",
      "400010010041\trecord-1\trecord\t\tFalse\tTrue\n",
      "400010010051\tof-1\tof\t\tFalse\tTrue\n",
      "400010010061\tthe-1\tthe\t\tFalse\tTrue\n",
      "400010010071\tgenealogy-1\tgenealogy\t\tFalse\tTrue\n",
      "400010010081\tof-2\tof\t\tFalse\tTrue\n",
      "400010010091\tJesus-1\tJesus\t\tFalse\tTrue\n"
     ]
    }
   ],
   "source": [
    "# The target file for the Berean Standard Bible New Testament\n",
    "# \n",
    "!head ../../data/targets/eng/nt_BSB.tsv"
   ]
  },
  {
   "cell_type": "markdown",
   "id": "0618ab84-eb01-45d5-88bb-2dd37153d2f3",
   "metadata": {},
   "source": [
    "## Loading Source Data\n",
    "\n",
    "This example loads the source data for SBLGNT and displays some attributes of that data. "
   ]
  },
  {
   "cell_type": "code",
   "execution_count": 6,
   "id": "286678a9-84eb-4e30-a036-2f8287c6d7bd",
   "metadata": {
    "tags": []
   },
   "outputs": [
    {
     "name": "stdout",
     "output_type": "stream",
     "text": [
      "Number of tokens: 137741\n",
      "Number of distinct tokens: 19355\n",
      "Number of distinct lemmas: 5468\n"
     ]
    }
   ],
   "source": [
    "from pprint import pprint\n",
    "from bible_alignments.burrito import SourceReader\n",
    "\n",
    "src = SourceReader(DATAPATH / \"sources/SBLGNT.tsv\")\n",
    "\n",
    "print(f\"Number of tokens: {len(src)}\")\n",
    "print(f\"Number of distinct tokens: {len(src.vocabulary())}\")\n",
    "print(f\"Number of distinct lemmas: {len(src.vocabulary(tokenattr='lemma'))}\")"
   ]
  },
  {
   "cell_type": "code",
   "execution_count": 7,
   "id": "311d259b-bef8-4241-9381-bb6854d0f0f2",
   "metadata": {
    "tags": []
   },
   "outputs": [
    {
     "name": "stdout",
     "output_type": "stream",
     "text": [
      "{'altId': 'Ἀκούετε-1',\n",
      " 'gloss': 'Listen',\n",
      " 'gloss2': 'listen',\n",
      " 'id': 'n41004003001',\n",
      " 'lemma': 'ἀκούω',\n",
      " 'morph': 'V-PAM-2P',\n",
      " 'pos': 'verb',\n",
      " 'strongs': 'G0191',\n",
      " 'text': 'Ἀκούετε'}\n"
     ]
    }
   ],
   "source": [
    "# dict: token ID -> Source() instance\n",
    "# Show data for the first word from MRK 4:3. Note the leading 'n' indicating New Testament, a Macula convention.\n",
    "pprint(src[\"n41004003001\"].asdict())\n"
   ]
  },
  {
   "cell_type": "code",
   "execution_count": 8,
   "id": "0560eeb9-749a-495d-8302-4f9ed093e0ab",
   "metadata": {
    "tags": []
   },
   "outputs": [
    {
     "name": "stdout",
     "output_type": "stream",
     "text": [
      "n41004003001: Ἀκούετε\t\t (Listen, ἀκούω, verb)\n",
      "n41004003002: ἰδοὺ\t\t (Behold, ἰδού, ptcl)\n",
      "n41004003003: ἐξῆλθεν\t\t (went out, ἐξέρχομαι, verb)\n",
      "n41004003004: ὁ\t\t (the [one], ὁ, det)\n",
      "n41004003005: σπείρων\t\t (sowing, σπείρω, verb)\n",
      "n41004003006: σπεῖραι\t\t (to sow, σπείρω, verb)\n"
     ]
    }
   ],
   "source": [
    "# display the word data for Mark 4:3 (41004003*): gloss, lemma, part of speech\n",
    "for identifier, word in src.items():\n",
    "    if identifier.startswith(\"n41004003\"):\n",
    "        word.display()"
   ]
  },
  {
   "cell_type": "markdown",
   "id": "92c400bf-0642-4ab3-a734-bf967edc4ba7",
   "metadata": {},
   "source": [
    "## Loading Target Data"
   ]
  },
  {
   "cell_type": "code",
   "execution_count": 9,
   "id": "6d292af1-8ffa-40cb-921b-d0c7a468f1f2",
   "metadata": {
    "tags": []
   },
   "outputs": [
    {
     "name": "stdout",
     "output_type": "stream",
     "text": [
      "201087 words for nt_BSB.\n"
     ]
    }
   ],
   "source": [
    "from bible_alignments.burrito import TargetReader\n",
    "\n",
    "trg = TargetReader(DATAPATH / \"targets/eng/nt_BSB.tsv\", idheader=\"identifier\")\n",
    "\n",
    "print(f\"{len(trg)} words for {trg.identifier}.\")"
   ]
  },
  {
   "cell_type": "code",
   "execution_count": 10,
   "id": "577b4b46-ce0c-460d-9c6d-2b2c39b02eac",
   "metadata": {},
   "outputs": [
    {
     "data": {
      "text/plain": [
       "'“ Listen ! A farmer went out to sow his seed .'"
      ]
     },
     "execution_count": 10,
     "metadata": {},
     "output_type": "execute_result"
    }
   ],
   "source": [
    "# display the text for Mark 4:3\n",
    "\" \".join([term.text for termid, term in trg.items() if termid.startswith(\"41004003\")])"
   ]
  },
  {
   "cell_type": "code",
   "execution_count": 11,
   "id": "8cbc4ad9-3ec4-4561-9d00-a82a41179055",
   "metadata": {
    "tags": []
   },
   "outputs": [
    {
     "name": "stdout",
     "output_type": "stream",
     "text": [
      "410040030011: “\t\t ('', True, False)\n",
      "410040030021: Listen\t\t ('', False, True)\n",
      "410040030031: !\t\t ('', True, False)\n",
      "410040030041: A\t\t ('', False, True)\n",
      "410040030051: farmer\t\t ('', False, True)\n",
      "410040030061: went\t\t ('', False, True)\n",
      "410040030071: out\t\t ('', False, True)\n",
      "410040030081: to\t\t ('', False, True)\n",
      "410040030091: sow\t\t ('', False, True)\n",
      "410040030101: his\t\t ('', False, True)\n",
      "410040030111: seed\t\t ('', False, True)\n",
      "410040030121: .\t\t ('', True, False)\n"
     ]
    }
   ],
   "source": [
    "# display the word data for Mark 4:3 (41004003*)\n",
    "# the additional parenthesized data indicates:\n",
    "# - the translation type (empty for this data)pytho\n",
    "# - whether the token is punctuation: this data looks unreliable\n",
    "# - whether the token is the primary item for the alignment\n",
    "for identifier, word in trg.items():\n",
    "    if identifier.startswith(\"41004003\"):\n",
    "        word.display()"
   ]
  },
  {
   "cell_type": "markdown",
   "id": "15da976d-0223-4df3-b3a9-d29e7626da08",
   "metadata": {},
   "source": [
    "## Loading Alignments\n",
    "\n",
    "Loading an alignment file requires specifying the source, target, language, and process. "
   ]
  },
  {
   "cell_type": "code",
   "execution_count": 12,
   "id": "02a7473e-a37c-4f16-8956-07d475a124c4",
   "metadata": {},
   "outputs": [
    {
     "name": "stdout",
     "output_type": "stream",
     "text": [
      "\n",
      "        - root: /Users/sboisen/git/Clear-Bible/Alignments/data\n",
      "        - source: sources/SBLGNT.tsv\n",
      "        - target: targets/eng/nt_BSB.tsv\n",
      "        - alignments: alignments/eng/BSB/SBLGNT-BSB-manual.json\n",
      "        \n",
      "Dropping 487 bad alignment records. Instances in self.malaligned.\n"
     ]
    }
   ],
   "source": [
    "from bible_alignments.burrito import Catalog, Manager\n",
    "\n",
    "# define the alignment set: language, source, target, and alignment type\n",
    "alset = Catalog().get_alignmentset(language=\"eng\", identifier=\"SBLGNT-BSB-manual\")\n",
    "mgr = Manager(alset)\n"
   ]
  },
  {
   "cell_type": "markdown",
   "id": "9c85a1e2-7188-4ad8-99db-90c9fc39b7b6",
   "metadata": {},
   "source": [
    "The alignment data includes the source corpus data."
   ]
  },
  {
   "cell_type": "code",
   "execution_count": 13,
   "id": "a6acbbff-6d09-40c9-b888-635df6833ccd",
   "metadata": {
    "tags": []
   },
   "outputs": [
    {
     "name": "stdout",
     "output_type": "stream",
     "text": [
      "n41004003001: Ἀκούετε\t\t (Listen, ἀκούω, verb)\n"
     ]
    }
   ],
   "source": [
    "mgr.sourceitems[\"n41004003001\"].display()"
   ]
  },
  {
   "cell_type": "markdown",
   "id": "de37214e-ecf3-4c71-b675-372f348c4f2c",
   "metadata": {},
   "source": [
    "... and target corpus data."
   ]
  },
  {
   "cell_type": "code",
   "execution_count": 14,
   "id": "77cb1abc-5c99-43e0-b20a-76ad0da8cabb",
   "metadata": {
    "tags": []
   },
   "outputs": [
    {
     "name": "stdout",
     "output_type": "stream",
     "text": [
      "410040030021: Listen\t\t ('', False, True)\n"
     ]
    }
   ],
   "source": [
    "# no leading n, includes word part '1'\n",
    "mgr.targetitems[\"410040030021\"].display()"
   ]
  },
  {
   "cell_type": "markdown",
   "id": "74719952-73e4-4c6b-b576-103cce12dbea",
   "metadata": {},
   "source": [
    "The individual alignments are in `AlignmentRecord` instances, part of the `AlignmentGroup`. "
   ]
  },
  {
   "cell_type": "code",
   "execution_count": 15,
   "id": "b08530be-73b1-4694-9422-b3470264b3ce",
   "metadata": {
    "tags": []
   },
   "outputs": [
    {
     "name": "stdout",
     "output_type": "stream",
     "text": [
      "Source id: SBLGNT\n",
      "Target id: BSB\n",
      "# of alignment records: 115941\n"
     ]
    }
   ],
   "source": [
    "print(f\"Source id: {mgr.alset.sourceid}\")\n",
    "print(f\"Target id: {mgr.alset.targetid}\")\n",
    "print(f\"# of alignment records: {len(mgr.alignmentgroup.records)}\")"
   ]
  },
  {
   "cell_type": "markdown",
   "id": "e1168ae7-c4cc-4d83-823e-990c17a606fe",
   "metadata": {
    "tags": []
   },
   "source": [
    "The alignment data includes the source and target data.## Example Applications"
   ]
  },
  {
   "cell_type": "markdown",
   "id": "64ea19df-3605-4d5a-a6a6-780b0fc9226d",
   "metadata": {},
   "source": [
    "## Example Applications"
   ]
  },
  {
   "cell_type": "markdown",
   "id": "e1346e1a-a820-4689-ae12-fa4a53a2f880",
   "metadata": {
    "tags": []
   },
   "source": [
    "### Displaying Aligned Source and Target\n",
    "\n",
    "One application for this data is reviewing the alignments for a passage.\n",
    "\n",
    "This example displays the aligned source and target token instances for Mark 4:3. This shows that alignments are potentially many to many. "
   ]
  },
  {
   "cell_type": "code",
   "execution_count": 16,
   "id": "6889e07a-589a-46c3-a1f9-7bcbc33c1e71",
   "metadata": {
    "tags": []
   },
   "outputs": [
    {
     "name": "stdout",
     "output_type": "stream",
     "text": [
      "------------\n",
      "Source: n41004003001: Ἀκούετε\t\t (Listen, ἀκούω, verb)\n",
      "Source: n41004003002: ἰδοὺ\t\t (Behold, ἰδού, ptcl)\n",
      "Target: 410040030021: Listen\t\t ('', False, True)\n",
      "------------\n",
      "Source: n41004003003: ἐξῆλθεν\t\t (went out, ἐξέρχομαι, verb)\n",
      "Target: 410040030061: went\t\t ('', False, True)\n",
      "Target: 410040030071: out\t\t ('', False, True)\n",
      "------------\n",
      "Source: n41004003004: ὁ\t\t (the [one], ὁ, det)\n",
      "Target: 410040030041: A\t\t ('', False, True)\n",
      "------------\n",
      "Source: n41004003005: σπείρων\t\t (sowing, σπείρω, verb)\n",
      "Target: 410040030051: farmer\t\t ('', False, True)\n",
      "------------\n",
      "Source: n41004003006: σπεῖραι\t\t (to sow, σπείρω, verb)\n",
      "Target: 410040030081: to\t\t ('', False, True)\n",
      "Target: 410040030091: sow\t\t ('', False, True)\n",
      "Target: 410040030101: his\t\t ('', False, True)\n",
      "Target: 410040030111: seed\t\t ('', False, True)\n"
     ]
    }
   ],
   "source": [
    "mgr[\"41004003\"].display()"
   ]
  },
  {
   "cell_type": "markdown",
   "id": "b1a050e7-2aa3-44e9-9720-a1eac896274c",
   "metadata": {},
   "source": [
    "A Panda dataframe provides an easy way to compare all the alignments as a matrix. We use 'G' to indicate **G**old standard data. Note that the English punctuation is not aligned in the gold standard data."
   ]
  },
  {
   "cell_type": "code",
   "execution_count": 17,
   "id": "ef9c96ed-291c-43dc-98dc-5878989464dd",
   "metadata": {
    "tags": []
   },
   "outputs": [
    {
     "data": {
      "text/html": [
       "<div>\n",
       "<style scoped>\n",
       "    .dataframe tbody tr th:only-of-type {\n",
       "        vertical-align: middle;\n",
       "    }\n",
       "\n",
       "    .dataframe tbody tr th {\n",
       "        vertical-align: top;\n",
       "    }\n",
       "\n",
       "    .dataframe thead th {\n",
       "        text-align: right;\n",
       "    }\n",
       "</style>\n",
       "<table border=\"1\" class=\"dataframe\">\n",
       "  <thead>\n",
       "    <tr style=\"text-align: right;\">\n",
       "      <th></th>\n",
       "      <th>“</th>\n",
       "      <th>Listen</th>\n",
       "      <th>!</th>\n",
       "      <th>A</th>\n",
       "      <th>farmer</th>\n",
       "      <th>went</th>\n",
       "      <th>out</th>\n",
       "      <th>to</th>\n",
       "      <th>sow</th>\n",
       "      <th>his</th>\n",
       "      <th>seed</th>\n",
       "      <th>.</th>\n",
       "    </tr>\n",
       "  </thead>\n",
       "  <tbody>\n",
       "    <tr>\n",
       "      <th>Ἀκούετε</th>\n",
       "      <td></td>\n",
       "      <td>G</td>\n",
       "      <td></td>\n",
       "      <td></td>\n",
       "      <td></td>\n",
       "      <td></td>\n",
       "      <td></td>\n",
       "      <td></td>\n",
       "      <td></td>\n",
       "      <td></td>\n",
       "      <td></td>\n",
       "      <td></td>\n",
       "    </tr>\n",
       "    <tr>\n",
       "      <th>ἰδοὺ</th>\n",
       "      <td></td>\n",
       "      <td>G</td>\n",
       "      <td></td>\n",
       "      <td></td>\n",
       "      <td></td>\n",
       "      <td></td>\n",
       "      <td></td>\n",
       "      <td></td>\n",
       "      <td></td>\n",
       "      <td></td>\n",
       "      <td></td>\n",
       "      <td></td>\n",
       "    </tr>\n",
       "    <tr>\n",
       "      <th>ἐξῆλθεν</th>\n",
       "      <td></td>\n",
       "      <td></td>\n",
       "      <td></td>\n",
       "      <td></td>\n",
       "      <td></td>\n",
       "      <td>G</td>\n",
       "      <td>G</td>\n",
       "      <td></td>\n",
       "      <td></td>\n",
       "      <td></td>\n",
       "      <td></td>\n",
       "      <td></td>\n",
       "    </tr>\n",
       "    <tr>\n",
       "      <th>ὁ</th>\n",
       "      <td></td>\n",
       "      <td></td>\n",
       "      <td></td>\n",
       "      <td>G</td>\n",
       "      <td></td>\n",
       "      <td></td>\n",
       "      <td></td>\n",
       "      <td></td>\n",
       "      <td></td>\n",
       "      <td></td>\n",
       "      <td></td>\n",
       "      <td></td>\n",
       "    </tr>\n",
       "    <tr>\n",
       "      <th>σπείρων</th>\n",
       "      <td></td>\n",
       "      <td></td>\n",
       "      <td></td>\n",
       "      <td></td>\n",
       "      <td>G</td>\n",
       "      <td></td>\n",
       "      <td></td>\n",
       "      <td></td>\n",
       "      <td></td>\n",
       "      <td></td>\n",
       "      <td></td>\n",
       "      <td></td>\n",
       "    </tr>\n",
       "    <tr>\n",
       "      <th>σπεῖραι</th>\n",
       "      <td></td>\n",
       "      <td></td>\n",
       "      <td></td>\n",
       "      <td></td>\n",
       "      <td></td>\n",
       "      <td></td>\n",
       "      <td></td>\n",
       "      <td>G</td>\n",
       "      <td>G</td>\n",
       "      <td>G</td>\n",
       "      <td>G</td>\n",
       "      <td></td>\n",
       "    </tr>\n",
       "  </tbody>\n",
       "</table>\n",
       "</div>"
      ],
      "text/plain": [
       "          “ Listen   !   A farmer went out  to sow his seed   .\n",
       "Ἀκούετε          G                                             \n",
       "ἰδοὺ             G                                             \n",
       "ἐξῆλθεν                              G   G                     \n",
       "ὁ                        G                                     \n",
       "σπείρων                         G                              \n",
       "σπεῖραι                                      G   G   G    G    "
      ]
     },
     "execution_count": 17,
     "metadata": {},
     "output_type": "execute_result"
    }
   ],
   "source": [
    "mgr[\"41004003\"].dataframe(hitmark=\"G\")"
   ]
  },
  {
   "cell_type": "markdown",
   "id": "a84e6da9-12c8-41b4-adf3-b8f77b60bcdc",
   "metadata": {},
   "source": [
    "### Displaying Concorded Alignments for a Term\n",
    "\n",
    "Another application is seeing all the ways a particular data item is aligned throughout the corpus. \n",
    "\n",
    "This example collects the BSB alignments for ἀκούω \"to hear\" and displays the most common ones."
   ]
  },
  {
   "cell_type": "code",
   "execution_count": 23,
   "id": "ddb601e0-f56f-46cf-916d-5a9d41ac3c53",
   "metadata": {},
   "outputs": [
    {
     "data": {
      "text/plain": [
       "['40010027',\n",
       " '40011004',\n",
       " '40013017',\n",
       " '40017005',\n",
       " '41004024',\n",
       " '41008018',\n",
       " '41009007',\n",
       " '42008018',\n",
       " '42009035',\n",
       " '42010024',\n",
       " '43008047',\n",
       " '43010020',\n",
       " '43014024',\n",
       " '44002033',\n",
       " '44019026',\n",
       " '48004021',\n",
       " '50001030']"
      ]
     },
     "execution_count": 23,
     "metadata": {},
     "output_type": "execute_result"
    }
   ],
   "source": [
    "# source tokens\n",
    "akouete = mgr.sourceitems.term_tokens(term=\"ἀκούετε\")\n",
    "[token.bcv for token in akouete]"
   ]
  }
 ],
 "metadata": {
  "kernelspec": {
   "display_name": "Python 3 (ipykernel)",
   "language": "python",
   "name": "python3"
  },
  "language_info": {
   "codemirror_mode": {
    "name": "ipython",
    "version": 3
   },
   "file_extension": ".py",
   "mimetype": "text/x-python",
   "name": "python",
   "nbconvert_exporter": "python",
   "pygments_lexer": "ipython3",
   "version": "3.10.13"
  }
 },
 "nbformat": 4,
 "nbformat_minor": 5
}
