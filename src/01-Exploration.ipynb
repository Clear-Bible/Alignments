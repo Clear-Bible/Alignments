{
 "cells": [
  {
   "cell_type": "markdown",
   "id": "504c1ac0-5325-4daa-a793-ee7023c9fe9b",
   "metadata": {},
   "source": [
    "# Exploring Alignment Data\n",
    "\n",
    "This notebook shows how to load and explore the aligned Bible data available from this repository.\n",
    "\n",
    "Aligned words are identified using a BBCCCVVVWWWP format: for example, \"400010020031\" refers to\n",
    "\n",
    "* Matthew (book 40)\n",
    "* Chapter 1 (001)\n",
    "* Verse 2 (002)\n",
    "* Word 3 in this text's sequence (003)\n",
    "* Part 1 (For Greek, this is always 1: for Hebrew, words may be segmented into multiple parts)\n"
   ]
  },
  {
   "cell_type": "code",
   "execution_count": 1,
   "id": "aefe11ba-a15f-46e8-8482-d49467c42cae",
   "metadata": {
    "tags": []
   },
   "outputs": [],
   "source": [
    "import config"
   ]
  },
  {
   "cell_type": "markdown",
   "id": "23af933b-6d6f-43bb-8cd0-1beb33bc207b",
   "metadata": {},
   "source": [
    "## Available Alignments\n",
    "\n",
    "Alignments are grouped by language (using ISO-639-3 codes) and then by version abbreviation. Typically the OT alignment is separate from the NT alignment.\n",
    "\n",
    "The alignment file format is described in docs/format.md ."
   ]
  },
  {
   "cell_type": "code",
   "execution_count": 2,
   "id": "21acad12-8b4e-4e74-967e-fb091cd6f282",
   "metadata": {
    "tags": []
   },
   "outputs": [
    {
     "name": "stdout",
     "output_type": "stream",
     "text": [
      "data/eng/ESV\n",
      "data/eng/LEB\n",
      "data/eng/NET\n",
      "data/eng/YLT\n",
      "data/hin/HSB\n",
      "data/man/CUVMP\n"
     ]
    }
   ],
   "source": [
    "for al in sorted([f\"data/{lang.name}/{version.name}\" \n",
    "                  for lang in config.ALIGNMENTS.glob(\"*\")\n",
    "                  for version in lang.glob(\"*\")]):\n",
    "    print(al)"
   ]
  },
  {
   "cell_type": "code",
   "execution_count": 3,
   "id": "382feb0d-f3b0-47bd-b1f9-b39b6bfeea66",
   "metadata": {
    "tags": []
   },
   "outputs": [
    {
     "name": "stdout",
     "output_type": "stream",
     "text": [
      "[\n",
      "{\"40001001.1\": {\"NA27\": [\"400010010011\"], \"YLT\": [\"40001001002\", \"40001001001\"], \"meta\": {\"process\": \"manual\"}}},\n",
      "{\"40001001.2\": {\"NA27\": [\"400010010021\"], \"YLT\": [\"40001001005\", \"40001001003\"], \"meta\": {\"process\": \"manual\"}}},\n",
      "{\"40001001.3\": {\"NA27\": [\"400010010031\"], \"YLT\": [\"40001001007\", \"40001001006\"], \"meta\": {\"process\": \"manual\"}}},\n",
      "{\"40001001.4\": {\"NA27\": [\"400010010041\"], \"YLT\": [\"40001001008\"], \"meta\": {\"process\": \"manual\"}}},\n",
      "{\"40001001.5\": {\"NA27\": [\"400010010051\"], \"YLT\": [\"40001001010\"], \"meta\": {\"process\": \"manual\"}}},\n",
      "{\"40001001.6\": {\"NA27\": [\"400010010061\"], \"YLT\": [\"40001001012\", \"40001001011\"], \"meta\": {\"process\": \"manual\"}}},\n",
      "{\"40001001.7\": {\"NA27\": [\"400010010071\"], \"YLT\": [\"40001001014\"], \"meta\": {\"process\": \"manual\"}}},\n",
      "{\"40001001.8\": {\"NA27\": [\"400010010081\"], \"YLT\": [\"40001001016\", \"40001001015\"], \"meta\": {\"process\": \"manual\"}}},\n",
      "{\"40001002.1\": {\"NA27\": [\"400010020011\"], \"YLT\": [\"40001002001\"], \"meta\": {\"process\": \"manual\"}}},\n"
     ]
    }
   ],
   "source": [
    "# An example of the alignment file for the NA27 Greek New Testament aligned with the English Young's Literal Text (YLT).\n",
    "# \n",
    "!head ../data/alignments/eng/YLT/NA27-YLT-manual.json"
   ]
  },
  {
   "cell_type": "markdown",
   "id": "ce95027c-5b92-4e60-b1b5-176fc90c4610",
   "metadata": {},
   "source": [
    "## Source and Target Files"
   ]
  },
  {
   "cell_type": "markdown",
   "id": "d718bf8d-9609-40ed-be65-4108041cb573",
   "metadata": {},
   "source": [
    "For each alignment file, there is a corresponding source and target file in TSV format that identifies each word by a unique identifier. Some source or target texts are copyrighted: in such cases, the surface text is omitted, but other metadata is still available.\n",
    "\n",
    "Here's an example for the English Young's Literal Text (YLT), aligned with the NA27 Greek New Testament. This format comes from manual alignments done by Grape City (GC)."
   ]
  },
  {
   "cell_type": "code",
   "execution_count": 4,
   "id": "332e4da8-8257-48f7-8f13-dec41b96c1d0",
   "metadata": {
    "tags": []
   },
   "outputs": [
    {
     "name": "stdout",
     "output_type": "stream",
     "text": [
      "identifier\taltId\ttext\tstrongs\tgloss\tgloss2\tlemma\tpos\tmorph\n",
      "400010010011\t--\t--\tG0976\ta record\tA record\tβίβλος\tnoun\tn- -nsf-\n",
      "400010010021\t--\t--\tG1078\tof [the] genealogy\tof genealogy\tγένεσις\tnoun\tn- -gsf-\n",
      "400010010031\t--\t--\tG2424\tof Jesus\tof Jesus\tἸησοῦς\tName\tnr -gsm-\n",
      "400010010041\t--\t--\tG5547\tChrist\tChrist\tΧριστός\tName\tnr -gsm-\n",
      "400010010051\t--\t--\tG5207\tson\tson\tυἱός\tnoun\tn- -gsm-\n",
      "400010010061\t--\t--\tG1138\tof David\tof David\tΔαυίδ\tName\tnr -gsm-\n",
      "400010010071\t--\t--\tG5207\tson\tson\tυἱός\tnoun\tn- -gsm-\n",
      "400010010081\t--\t--\tG0011\tof Abraham.\tof Abraham\tἈβραάμ\tName\tnr -gsm-\n",
      "400010020011\t--\t--\tG0011\tAbraham\tAbraham\tἈβραάμ\tName\tnr -nsm-\n"
     ]
    }
   ],
   "source": [
    "# An example of the source file for the NA27 Greek New Testament.\n",
    "# \n",
    "!head ../data/sources/NA27-YLT.tsv"
   ]
  },
  {
   "cell_type": "code",
   "execution_count": 5,
   "id": "cc761732-5b0b-41ea-89f4-7c16546af597",
   "metadata": {
    "tags": []
   },
   "outputs": [
    {
     "name": "stdout",
     "output_type": "stream",
     "text": [
      "identifier\taltId\ttext\ttransType\tisPunc\tisPrimary\n",
      "40001001001\tA-1\tA\tm\tFalse\tFalse\n",
      "40001001002\troll-1\troll\tk\tFalse\tTrue\n",
      "40001001003\tof-1\tof\tm\tFalse\tFalse\n",
      "40001001004\tthe-1\tthe\t\tFalse\tFalse\n",
      "40001001005\tbirth-1\tbirth\tk\tFalse\tTrue\n",
      "40001001006\tof-2\tof\tm\tFalse\tFalse\n",
      "40001001007\tJesus-1\tJesus\tk\tFalse\tTrue\n",
      "40001001008\tChrist-1\tChrist\tk\tFalse\tTrue\n",
      "40001001009\t,-1\t,\t\tFalse\tFalse\n"
     ]
    }
   ],
   "source": [
    "# An example of the target file for the NA27 Greek New Testament.\n",
    "# \n",
    "!head ../data/targets/NA27-YLT.tsv"
   ]
  },
  {
   "cell_type": "markdown",
   "id": "0618ab84-eb01-45d5-88bb-2dd37153d2f3",
   "metadata": {},
   "source": [
    "## Loading Source Data into Python\n",
    "\n",
    "This example loads the Grape City source data for NA27. The text values are replaced with \"--\" because of copyright."
   ]
  },
  {
   "cell_type": "code",
   "execution_count": 6,
   "id": "5b93975b-1a78-475b-8367-211f9bf99218",
   "metadata": {
    "tags": []
   },
   "outputs": [
    {
     "name": "stdout",
     "output_type": "stream",
     "text": [
      "138014 words for NA27.\n"
     ]
    }
   ],
   "source": [
    "import gcsource\n",
    "\n",
    "rd = gcsource.Reader(sourceid=\"NA27\", targetid=\"YLT\")\n",
    "print(f\"{len(rd)} words for {rd.sourceid}.\")"
   ]
  },
  {
   "cell_type": "code",
   "execution_count": 7,
   "id": "0560eeb9-749a-495d-8302-4f9ed093e0ab",
   "metadata": {
    "tags": []
   },
   "outputs": [
    {
     "name": "stdout",
     "output_type": "stream",
     "text": [
      "410040030011: --                   ('listen,', 'ἀκούω', verb)\n",
      "410040030021: --                   ('behold', 'ὁράω', verb)\n",
      "410040030031: --                   ('went out', 'ἐξέρχομαι', verb)\n",
      "410040030041: --                   ('the one', 'ὁ', det)\n",
      "410040030051: --                   ('sowing', 'σπείρω', verb)\n",
      "410040030061: --                   ('to sow [seed].', 'σπείρω', verb)\n"
     ]
    }
   ],
   "source": [
    "# display the word data for Mark 4:3 (41004003*)\n",
    "for identifier, word in rd.items():\n",
    "    if identifier.startswith(\"41004003\"):\n",
    "        word.display()"
   ]
  },
  {
   "cell_type": "code",
   "execution_count": 8,
   "id": "6d292af1-8ffa-40cb-921b-d0c7a468f1f2",
   "metadata": {
    "tags": []
   },
   "outputs": [
    {
     "name": "stdout",
     "output_type": "stream",
     "text": [
      "223880 words for YLT.\n"
     ]
    }
   ],
   "source": [
    "import gctarget\n",
    "\n",
    "rd = gctarget.Reader(sourceid=\"NA27\", targetid=\"YLT\")\n",
    "print(f\"{len(rd)} words for {rd.targetid}.\")"
   ]
  },
  {
   "cell_type": "code",
   "execution_count": 9,
   "id": "8cbc4ad9-3ec4-4561-9d00-a82a41179055",
   "metadata": {
    "tags": []
   },
   "outputs": [
    {
     "name": "stdout",
     "output_type": "stream",
     "text": [
      "41004003001: ‘                    ('', False, False)\n",
      "41004003002: Hearken              ('k', False, True)\n",
      "41004003003: ,                    ('', False, False)\n",
      "41004003004: lo                   ('k', False, True)\n",
      "41004003005: ,                    ('', False, False)\n",
      "41004003006: the                  ('k', False, True)\n",
      "41004003007: sower                ('k', False, True)\n",
      "41004003008: went                 ('k', False, True)\n",
      "41004003009: forth                ('k', False, False)\n",
      "41004003010: to                   ('m', False, False)\n",
      "41004003011: sow                  ('k', False, True)\n",
      "41004003012: ;                    ('', False, False)\n"
     ]
    }
   ],
   "source": [
    "# display the word data for Mark 4:3 (41004003*)\n",
    "for identifier, word in rd.items():\n",
    "    if identifier.startswith(\"41004003\"):\n",
    "        word.display()"
   ]
  },
  {
   "cell_type": "markdown",
   "id": "15da976d-0223-4df3-b3a9-d29e7626da08",
   "metadata": {},
   "source": [
    "More to come ..."
   ]
  },
  {
   "cell_type": "code",
   "execution_count": null,
   "id": "02a7473e-a37c-4f16-8956-07d475a124c4",
   "metadata": {},
   "outputs": [],
   "source": []
  }
 ],
 "metadata": {
  "kernelspec": {
   "display_name": "Python 3 (ipykernel)",
   "language": "python",
   "name": "python3"
  },
  "language_info": {
   "codemirror_mode": {
    "name": "ipython",
    "version": 3
   },
   "file_extension": ".py",
   "mimetype": "text/x-python",
   "name": "python",
   "nbconvert_exporter": "python",
   "pygments_lexer": "ipython3",
   "version": "3.11.1"
  }
 },
 "nbformat": 4,
 "nbformat_minor": 5
}
