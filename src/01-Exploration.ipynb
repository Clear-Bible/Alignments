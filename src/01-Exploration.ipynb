{
 "cells": [
  {
   "cell_type": "markdown",
   "id": "504c1ac0-5325-4daa-a793-ee7023c9fe9b",
   "metadata": {},
   "source": [
    "# Exploring Alignment Data\n",
    "\n",
    "This notebook shows how to load and explore the aligned Bible data available from this repository.\n",
    "\n",
    "Aligned words are identified using a BBCCCVVVWWWP format: for example, \"400010020031\" refers to\n",
    "\n",
    "* Matthew (book 40)\n",
    "* Chapter 1 (001)\n",
    "* Verse 2 (002)\n",
    "* Word 3 in this text's sequence (003)\n",
    "* Part 1 (For Greek, this is always 1: for Hebrew, words may be segmented into multiple parts)\n"
   ]
  },
  {
   "cell_type": "code",
   "execution_count": 1,
   "id": "aefe11ba-a15f-46e8-8482-d49467c42cae",
   "metadata": {
    "tags": []
   },
   "outputs": [],
   "source": [
    "import config"
   ]
  },
  {
   "cell_type": "markdown",
   "id": "23af933b-6d6f-43bb-8cd0-1beb33bc207b",
   "metadata": {},
   "source": [
    "## Available Alignments\n",
    "\n",
    "Alignments are grouped by language (using ISO-639-3 codes) and then by version abbreviation. Typically the OT alignment is separate from the NT alignment.\n",
    "\n",
    "The alignment file format is described in docs/format.md .\n",
    "\n",
    "Here's a list of the currently available alignments."
   ]
  },
  {
   "cell_type": "code",
   "execution_count": 2,
   "id": "21acad12-8b4e-4e74-967e-fb091cd6f282",
   "metadata": {
    "tags": []
   },
   "outputs": [
    {
     "name": "stdout",
     "output_type": "stream",
     "text": [
      "data/eng/ESV\n",
      "data/eng/LEB\n",
      "data/eng/NET\n",
      "data/eng/YLT\n",
      "data/hin/HSB\n",
      "data/man/CUVMP\n"
     ]
    }
   ],
   "source": [
    "for al in sorted([f\"data/{lang.name}/{version.name}\" \n",
    "                  for lang in config.ALIGNMENTS.glob(\"*\")\n",
    "                  for version in lang.glob(\"*\")]):\n",
    "    print(al)"
   ]
  },
  {
   "cell_type": "markdown",
   "id": "4a518808-d412-4ff7-8d70-9187f4ad4675",
   "metadata": {},
   "source": [
    "Here's an example of the raw alignment file for the NA27 Greek New Testament aligned with the English Young's Literal Text (YLT)."
   ]
  },
  {
   "cell_type": "code",
   "execution_count": 3,
   "id": "382feb0d-f3b0-47bd-b1f9-b39b6bfeea66",
   "metadata": {
    "tags": []
   },
   "outputs": [
    {
     "name": "stdout",
     "output_type": "stream",
     "text": [
      "[\n",
      "{\"40001001.1\": {\"NA27\": [\"400010010011\"], \"YLT\": [\"40001001002\", \"40001001001\"], \"meta\": {\"process\": \"manual\"}}},\n",
      "{\"40001001.2\": {\"NA27\": [\"400010010021\"], \"YLT\": [\"40001001005\", \"40001001003\"], \"meta\": {\"process\": \"manual\"}}},\n",
      "{\"40001001.3\": {\"NA27\": [\"400010010031\"], \"YLT\": [\"40001001007\", \"40001001006\"], \"meta\": {\"process\": \"manual\"}}},\n",
      "{\"40001001.4\": {\"NA27\": [\"400010010041\"], \"YLT\": [\"40001001008\"], \"meta\": {\"process\": \"manual\"}}},\n",
      "{\"40001001.5\": {\"NA27\": [\"400010010051\"], \"YLT\": [\"40001001010\"], \"meta\": {\"process\": \"manual\"}}},\n",
      "{\"40001001.6\": {\"NA27\": [\"400010010061\"], \"YLT\": [\"40001001012\", \"40001001011\"], \"meta\": {\"process\": \"manual\"}}},\n",
      "{\"40001001.7\": {\"NA27\": [\"400010010071\"], \"YLT\": [\"40001001014\"], \"meta\": {\"process\": \"manual\"}}},\n",
      "{\"40001001.8\": {\"NA27\": [\"400010010081\"], \"YLT\": [\"40001001016\", \"40001001015\"], \"meta\": {\"process\": \"manual\"}}},\n",
      "{\"40001002.1\": {\"NA27\": [\"400010020011\"], \"YLT\": [\"40001002001\"], \"meta\": {\"process\": \"manual\"}}},\n"
     ]
    }
   ],
   "source": [
    "!head ../data/alignments/eng/YLT/NA27-YLT-manual.json"
   ]
  },
  {
   "cell_type": "markdown",
   "id": "ce95027c-5b92-4e60-b1b5-176fc90c4610",
   "metadata": {},
   "source": [
    "## Source and Target Files"
   ]
  },
  {
   "cell_type": "markdown",
   "id": "d718bf8d-9609-40ed-be65-4108041cb573",
   "metadata": {},
   "source": [
    "For each alignment file, there is a corresponding source and target file in TSV format that identifies each word by a unique identifier. Some source or target texts are copyrighted: in such cases, the surface text is omitted, but other metadata is still available.\n",
    "\n",
    "Here's an example of the raw data for the English Young's Literal Text (YLT), aligned with the NA27 Greek New Testament. This format comes from manual alignments done by Grape City (GC)."
   ]
  },
  {
   "cell_type": "code",
   "execution_count": 4,
   "id": "332e4da8-8257-48f7-8f13-dec41b96c1d0",
   "metadata": {
    "tags": []
   },
   "outputs": [
    {
     "name": "stdout",
     "output_type": "stream",
     "text": [
      "identifier\taltId\ttext\tstrongs\tgloss\tgloss2\tlemma\tpos\tmorph\n",
      "400010010011\t--\t--\tG0976\ta record\tA record\tβίβλος\tnoun\tn- -nsf-\n",
      "400010010021\t--\t--\tG1078\tof [the] genealogy\tof genealogy\tγένεσις\tnoun\tn- -gsf-\n",
      "400010010031\t--\t--\tG2424\tof Jesus\tof Jesus\tἸησοῦς\tName\tnr -gsm-\n",
      "400010010041\t--\t--\tG5547\tChrist\tChrist\tΧριστός\tName\tnr -gsm-\n",
      "400010010051\t--\t--\tG5207\tson\tson\tυἱός\tnoun\tn- -gsm-\n",
      "400010010061\t--\t--\tG1138\tof David\tof David\tΔαυίδ\tName\tnr -gsm-\n",
      "400010010071\t--\t--\tG5207\tson\tson\tυἱός\tnoun\tn- -gsm-\n",
      "400010010081\t--\t--\tG0011\tof Abraham.\tof Abraham\tἈβραάμ\tName\tnr -gsm-\n",
      "400010020011\t--\t--\tG0011\tAbraham\tAbraham\tἈβραάμ\tName\tnr -nsm-\n"
     ]
    }
   ],
   "source": [
    "# The source file for the NA27 Greek New Testament.\n",
    "# \n",
    "!head ../data/sources/NA27-YLT.tsv"
   ]
  },
  {
   "cell_type": "code",
   "execution_count": 5,
   "id": "cc761732-5b0b-41ea-89f4-7c16546af597",
   "metadata": {
    "tags": []
   },
   "outputs": [
    {
     "name": "stdout",
     "output_type": "stream",
     "text": [
      "identifier\taltId\ttext\ttransType\tisPunc\tisPrimary\n",
      "40001001001\tA-1\tA\tm\tFalse\tFalse\n",
      "40001001002\troll-1\troll\tk\tFalse\tTrue\n",
      "40001001003\tof-1\tof\tm\tFalse\tFalse\n",
      "40001001004\tthe-1\tthe\t\tFalse\tFalse\n",
      "40001001005\tbirth-1\tbirth\tk\tFalse\tTrue\n",
      "40001001006\tof-2\tof\tm\tFalse\tFalse\n",
      "40001001007\tJesus-1\tJesus\tk\tFalse\tTrue\n",
      "40001001008\tChrist-1\tChrist\tk\tFalse\tTrue\n",
      "40001001009\t,-1\t,\t\tFalse\tFalse\n"
     ]
    }
   ],
   "source": [
    "# The target file for the NA27 Greek New Testament.\n",
    "# \n",
    "!head ../data/targets/NA27-YLT.tsv"
   ]
  },
  {
   "cell_type": "markdown",
   "id": "0618ab84-eb01-45d5-88bb-2dd37153d2f3",
   "metadata": {},
   "source": [
    "## Loading Source Data\n",
    "\n",
    "This example loads the Grape City source data for NA27. The text values are replaced with \"--\" because of copyright."
   ]
  },
  {
   "cell_type": "code",
   "execution_count": 6,
   "id": "5b93975b-1a78-475b-8367-211f9bf99218",
   "metadata": {
    "tags": []
   },
   "outputs": [
    {
     "name": "stdout",
     "output_type": "stream",
     "text": [
      "138014 words for NA27.\n"
     ]
    }
   ],
   "source": [
    "import gcsource\n",
    "\n",
    "sourcerd = gcsource.Reader(sourceid=\"NA27\", targetid=\"YLT\")\n",
    "print(f\"{len(sourcerd)} words for {sourcerd.sourceid}.\")"
   ]
  },
  {
   "cell_type": "code",
   "execution_count": 7,
   "id": "0560eeb9-749a-495d-8302-4f9ed093e0ab",
   "metadata": {
    "tags": []
   },
   "outputs": [
    {
     "name": "stdout",
     "output_type": "stream",
     "text": [
      "410040030011: --                   ('listen,', 'ἀκούω', verb)\n",
      "410040030021: --                   ('behold', 'ὁράω', verb)\n",
      "410040030031: --                   ('went out', 'ἐξέρχομαι', verb)\n",
      "410040030041: --                   ('the one', 'ὁ', det)\n",
      "410040030051: --                   ('sowing', 'σπείρω', verb)\n",
      "410040030061: --                   ('to sow [seed].', 'σπείρω', verb)\n"
     ]
    }
   ],
   "source": [
    "# display the word data for Mark 4:3 (41004003*): gloss, lemma, part of speech\n",
    "for identifier, word in sourcerd.items():\n",
    "    if identifier.startswith(\"41004003\"):\n",
    "        word.display()"
   ]
  },
  {
   "cell_type": "markdown",
   "id": "92c400bf-0642-4ab3-a734-bf967edc4ba7",
   "metadata": {},
   "source": [
    "## Loading Target Data"
   ]
  },
  {
   "cell_type": "code",
   "execution_count": 8,
   "id": "6d292af1-8ffa-40cb-921b-d0c7a468f1f2",
   "metadata": {
    "tags": []
   },
   "outputs": [
    {
     "name": "stdout",
     "output_type": "stream",
     "text": [
      "223880 words for YLT.\n"
     ]
    }
   ],
   "source": [
    "import gctarget\n",
    "\n",
    "targetrd = gctarget.Reader(sourceid=\"NA27\", targetid=\"YLT\")\n",
    "print(f\"{len(targetrd)} words for {targetrd.targetid}.\")"
   ]
  },
  {
   "cell_type": "code",
   "execution_count": 9,
   "id": "577b4b46-ce0c-460d-9c6d-2b2c39b02eac",
   "metadata": {},
   "outputs": [
    {
     "data": {
      "text/plain": [
       "'‘ Hearken , lo , the sower went forth to sow ;'"
      ]
     },
     "execution_count": 9,
     "metadata": {},
     "output_type": "execute_result"
    }
   ],
   "source": [
    "# display the text for Mark 4:3\n",
    "\" \".join([term.text for termid, term in targetrd.items() if termid.startswith(\"41004003\")])"
   ]
  },
  {
   "cell_type": "code",
   "execution_count": 18,
   "id": "7d9d0813-83ec-454b-aea0-eff5e8b9e9ad",
   "metadata": {
    "tags": []
   },
   "outputs": [
    {
     "data": {
      "text/plain": [
       "79"
      ]
     },
     "execution_count": 18,
     "metadata": {},
     "output_type": "execute_result"
    }
   ],
   "source": [
    "# only 79 punctuation tokens: that doesn't seem correct.\n",
    "len([word for _, word in targetrd.items() if word.isPunc])"
   ]
  },
  {
   "cell_type": "code",
   "execution_count": 12,
   "id": "8cbc4ad9-3ec4-4561-9d00-a82a41179055",
   "metadata": {
    "tags": []
   },
   "outputs": [
    {
     "name": "stdout",
     "output_type": "stream",
     "text": [
      "41004003001: ‘                    ('', False, False)\n",
      "41004003002: Hearken              ('k', False, True)\n",
      "41004003003: ,                    ('', False, False)\n",
      "41004003004: lo                   ('k', False, True)\n",
      "41004003005: ,                    ('', False, False)\n",
      "41004003006: the                  ('k', False, True)\n",
      "41004003007: sower                ('k', False, True)\n",
      "41004003008: went                 ('k', False, True)\n",
      "41004003009: forth                ('k', False, False)\n",
      "41004003010: to                   ('m', False, False)\n",
      "41004003011: sow                  ('k', False, True)\n",
      "41004003012: ;                    ('', False, False)\n"
     ]
    }
   ],
   "source": [
    "# display the word data for Mark 4:3 (41004003*)\n",
    "# the additional parenthesized data indicates:\n",
    "# - the translation type\n",
    "# - whether the token is punctuation: this data looks unreliable\n",
    "# - whether the token is the primary item for the alignment\n",
    "for identifier, word in targetrd.items():\n",
    "    if identifier.startswith(\"41004003\"):\n",
    "        word.display()"
   ]
  },
  {
   "cell_type": "markdown",
   "id": "15da976d-0223-4df3-b3a9-d29e7626da08",
   "metadata": {},
   "source": [
    "## Loading Alignments\n",
    "\n",
    "Loading an alignment file requires specifying the source, target, language, and process. \n",
    "\n",
    "This example assumes the Grape City alignment format. "
   ]
  },
  {
   "cell_type": "code",
   "execution_count": 13,
   "id": "02a7473e-a37c-4f16-8956-07d475a124c4",
   "metadata": {},
   "outputs": [
    {
     "name": "stdout",
     "output_type": "stream",
     "text": [
      "Source:\tNA27\t(138014 words)\n",
      "Target:\tYLT\t(223880 words)\n",
      "Process:\tmanual\n",
      "127902 alignments\n"
     ]
    }
   ],
   "source": [
    "import grapecity\n",
    "\n",
    "rd = grapecity.Reader(\"NA27\", \"YLT\", \"eng\", \"manual\")\n",
    "# YLT treats punctuation as separate tokens, so YLT is significantly longer than NA27\n",
    "rd.display()"
   ]
  },
  {
   "cell_type": "markdown",
   "id": "e1168ae7-c4cc-4d83-823e-990c17a606fe",
   "metadata": {
    "tags": []
   },
   "source": [
    "## Example Applications"
   ]
  },
  {
   "cell_type": "markdown",
   "id": "e1346e1a-a820-4689-ae12-fa4a53a2f880",
   "metadata": {
    "tags": []
   },
   "source": [
    "### Displaying Aligned Source and Target\n",
    "\n",
    "One application for this data is reviewing the alignments for a passage.\n",
    "\n",
    "This example displays the aligned source and target tokens for Mark 4:3. For NA27 the source text is copyrighted, so lemmas are displayed (rather than text). "
   ]
  },
  {
   "cell_type": "code",
   "execution_count": 14,
   "id": "6889e07a-589a-46c3-a1f9-7bcbc33c1e71",
   "metadata": {
    "tags": []
   },
   "outputs": [
    {
     "name": "stdout",
     "output_type": "stream",
     "text": [
      "41004003.1: ['ἀκούω']\t['Hearken']\n",
      "41004003.2: ['ὁράω']\t['lo']\n",
      "41004003.3: ['ἐξέρχομαι']\t['went', 'forth']\n",
      "41004003.4: ['ὁ']\t['the']\n",
      "41004003.5: ['σπείρω']\t['sower']\n",
      "41004003.6: ['σπείρω']\t['sow', 'to']\n"
     ]
    },
    {
     "data": {
      "text/plain": [
       "[None, None, None, None, None, None]"
      ]
     },
     "execution_count": 14,
     "metadata": {},
     "output_type": "execute_result"
    }
   ],
   "source": [
    "[ag.display() for agid, ag in rd.data.items() if agid.startswith(\"41004003\")]"
   ]
  },
  {
   "cell_type": "markdown",
   "id": "a84e6da9-12c8-41b4-adf3-b8f77b60bcdc",
   "metadata": {},
   "source": [
    "### Collecting Aligned Data\n",
    "\n",
    "Another application is seeing all the ways a particular data item is aligned throughout the corpus. \n",
    "\n",
    "This example collects the YLT alignments for ἀκούω \"to hear\" and displays the most common ones."
   ]
  },
  {
   "cell_type": "code",
   "execution_count": 15,
   "id": "380845e1-7622-45b7-8d4d-5635f52c8730",
   "metadata": {
    "tags": []
   },
   "outputs": [
    {
     "name": "stdout",
     "output_type": "stream",
     "text": [
      "94 bins with 427 instances.\n"
     ]
    }
   ],
   "source": [
    "from collections import Counter\n",
    "counted = Counter([\"+\".join([t.token for t in ag.targetitems])\n",
    "                   for _, ag in rd.data.items() \n",
    "                   if (len(ag.sourceitems) == 1 and ag.sourceitems[0].lemma == \"ἀκούω\")])\n",
    "print(f\"{len(counted)} bins with {counted.total()} instances.\")"
   ]
  },
  {
   "cell_type": "code",
   "execution_count": 16,
   "id": "92c1486d-3903-4eab-ab59-8f9ebff31f3a",
   "metadata": {
    "tags": []
   },
   "outputs": [
    {
     "name": "stdout",
     "output_type": "stream",
     "text": [
      "The 10 most common:\n"
     ]
    },
    {
     "data": {
      "text/plain": [
       "[('heard+having', 77),\n",
       " ('heard+I', 33),\n",
       " ('hearing', 31),\n",
       " ('hear+to', 28),\n",
       " ('heard', 24),\n",
       " ('hear', 15),\n",
       " ('hear+let+him', 15),\n",
       " ('heard+ye', 10),\n",
       " ('hear+ye', 9),\n",
       " ('heard+who', 9)]"
      ]
     },
     "execution_count": 16,
     "metadata": {},
     "output_type": "execute_result"
    }
   ],
   "source": [
    "print(\"The 10 most common:\")\n",
    "counted.most_common(n=10)"
   ]
  },
  {
   "cell_type": "code",
   "execution_count": null,
   "id": "ddb601e0-f56f-46cf-916d-5a9d41ac3c53",
   "metadata": {},
   "outputs": [],
   "source": []
  }
 ],
 "metadata": {
  "kernelspec": {
   "display_name": "Python 3 (ipykernel)",
   "language": "python",
   "name": "python3"
  },
  "language_info": {
   "codemirror_mode": {
    "name": "ipython",
    "version": 3
   },
   "file_extension": ".py",
   "mimetype": "text/x-python",
   "name": "python",
   "nbconvert_exporter": "python",
   "pygments_lexer": "ipython3",
   "version": "3.10.9"
  }
 },
 "nbformat": 4,
 "nbformat_minor": 5
}
